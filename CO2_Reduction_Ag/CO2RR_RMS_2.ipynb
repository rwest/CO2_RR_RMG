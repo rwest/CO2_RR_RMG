{
 "cells": [
  {
   "cell_type": "code",
   "execution_count": 1,
   "id": "8a590634",
   "metadata": {},
   "outputs": [],
   "source": [
    "using DifferentialEquations\n",
    "using ReactionMechanismSimulator\n",
    "using PyPlot"
   ]
  },
  {
   "cell_type": "code",
   "execution_count": 2,
   "id": "e941d4fb",
   "metadata": {},
   "outputs": [
    {
     "name": "stderr",
     "output_type": "stream",
     "text": [
      "[16:45:43] WARNING: not removing hydrogen atom without neighbors\n",
      "[16:45:43] WARNING: not removing hydrogen atom without neighbors\n",
      "┌ Warning: failed to generate StokesDiffusivity model for species vacantX\n",
      "└ @ ReactionMechanismSimulator /home/ssun30/RMG-Electrocat/ReactionMechanismSimulator.jl/src/Parse.jl:352\n",
      "┌ Warning: failed to generate StokesDiffusivity model for species CO2X\n",
      "└ @ ReactionMechanismSimulator /home/ssun30/RMG-Electrocat/ReactionMechanismSimulator.jl/src/Parse.jl:352\n",
      "┌ Warning: failed to generate StokesDiffusivity model for species CHO2X\n",
      "└ @ ReactionMechanismSimulator /home/ssun30/RMG-Electrocat/ReactionMechanismSimulator.jl/src/Parse.jl:352\n",
      "┌ Warning: failed to generate StokesDiffusivity model for species CO2HX\n",
      "└ @ ReactionMechanismSimulator /home/ssun30/RMG-Electrocat/ReactionMechanismSimulator.jl/src/Parse.jl:352\n",
      "┌ Warning: failed to generate StokesDiffusivity model for species OCX\n",
      "└ @ ReactionMechanismSimulator /home/ssun30/RMG-Electrocat/ReactionMechanismSimulator.jl/src/Parse.jl:352\n",
      "┌ Warning: failed to generate StokesDiffusivity model for species OX\n",
      "└ @ ReactionMechanismSimulator /home/ssun30/RMG-Electrocat/ReactionMechanismSimulator.jl/src/Parse.jl:352\n",
      "┌ Warning: failed to generate StokesDiffusivity model for species CH2O2X\n",
      "└ @ ReactionMechanismSimulator /home/ssun30/RMG-Electrocat/ReactionMechanismSimulator.jl/src/Parse.jl:352\n",
      "┌ Warning: failed to generate StokesDiffusivity model for species CHOX\n",
      "└ @ ReactionMechanismSimulator /home/ssun30/RMG-Electrocat/ReactionMechanismSimulator.jl/src/Parse.jl:352\n",
      "┌ Warning: failed to generate StokesDiffusivity model for species CH2OX\n",
      "└ @ ReactionMechanismSimulator /home/ssun30/RMG-Electrocat/ReactionMechanismSimulator.jl/src/Parse.jl:352\n",
      "┌ Warning: failed to generate StokesDiffusivity model for species HOX\n",
      "└ @ ReactionMechanismSimulator /home/ssun30/RMG-Electrocat/ReactionMechanismSimulator.jl/src/Parse.jl:352\n",
      "┌ Warning: failed to generate StokesDiffusivity model for species HX\n",
      "└ @ ReactionMechanismSimulator /home/ssun30/RMG-Electrocat/ReactionMechanismSimulator.jl/src/Parse.jl:352\n",
      "┌ Warning: failed to generate StokesDiffusivity model for species CO[Pt]\n",
      "└ @ ReactionMechanismSimulator /home/ssun30/RMG-Electrocat/ReactionMechanismSimulator.jl/src/Parse.jl:352\n",
      "┌ Warning: failed to generate StokesDiffusivity model for species OC[Pt]\n",
      "└ @ ReactionMechanismSimulator /home/ssun30/RMG-Electrocat/ReactionMechanismSimulator.jl/src/Parse.jl:352\n",
      "┌ Warning: failed to generate StokesDiffusivity model for species OC(O)[Pt]\n",
      "└ @ ReactionMechanismSimulator /home/ssun30/RMG-Electrocat/ReactionMechanismSimulator.jl/src/Parse.jl:352\n",
      "┌ Warning: failed to generate StokesDiffusivity model for species OCO[Pt]\n",
      "└ @ ReactionMechanismSimulator /home/ssun30/RMG-Electrocat/ReactionMechanismSimulator.jl/src/Parse.jl:352\n",
      "┌ Warning: failed to generate StokesDiffusivity model for species OC=[Pt]\n",
      "└ @ ReactionMechanismSimulator /home/ssun30/RMG-Electrocat/ReactionMechanismSimulator.jl/src/Parse.jl:352\n",
      "┌ Warning: failed to generate StokesDiffusivity model for species H2OX\n",
      "└ @ ReactionMechanismSimulator /home/ssun30/RMG-Electrocat/ReactionMechanismSimulator.jl/src/Parse.jl:352\n",
      "┌ Warning: failed to generate StokesDiffusivity model for species O=CC(=O)[Pt]\n",
      "└ @ ReactionMechanismSimulator /home/ssun30/RMG-Electrocat/ReactionMechanismSimulator.jl/src/Parse.jl:352\n",
      "┌ Warning: failed to generate StokesDiffusivity model for species OC#[Pt]\n",
      "└ @ ReactionMechanismSimulator /home/ssun30/RMG-Electrocat/ReactionMechanismSimulator.jl/src/Parse.jl:352\n",
      "┌ Warning: failed to generate StokesDiffusivity model for species O=CC=O.[Pt]\n",
      "└ @ ReactionMechanismSimulator /home/ssun30/RMG-Electrocat/ReactionMechanismSimulator.jl/src/Parse.jl:352\n",
      "┌ Warning: failed to generate StokesDiffusivity model for species O=COC[Pt]\n",
      "└ @ ReactionMechanismSimulator /home/ssun30/RMG-Electrocat/ReactionMechanismSimulator.jl/src/Parse.jl:352\n",
      "┌ Warning: failed to generate StokesDiffusivity model for species [H][H].[Pt]\n",
      "└ @ ReactionMechanismSimulator /home/ssun30/RMG-Electrocat/ReactionMechanismSimulator.jl/src/Parse.jl:352\n",
      "┌ Warning: failed to generate StokesDiffusivity model for species CX\n",
      "└ @ ReactionMechanismSimulator /home/ssun30/RMG-Electrocat/ReactionMechanismSimulator.jl/src/Parse.jl:352\n",
      "┌ Warning: failed to generate StokesDiffusivity model for species CHX\n",
      "└ @ ReactionMechanismSimulator /home/ssun30/RMG-Electrocat/ReactionMechanismSimulator.jl/src/Parse.jl:352\n",
      "┌ Warning: failed to generate StokesDiffusivity model for species CH2X\n",
      "└ @ ReactionMechanismSimulator /home/ssun30/RMG-Electrocat/ReactionMechanismSimulator.jl/src/Parse.jl:352\n",
      "┌ Warning: failed to generate StokesDiffusivity model for species O=COC#[Pt]\n",
      "└ @ ReactionMechanismSimulator /home/ssun30/RMG-Electrocat/ReactionMechanismSimulator.jl/src/Parse.jl:352\n",
      "┌ Warning: failed to generate StokesDiffusivity model for species O=CCO[Pt]\n",
      "└ @ ReactionMechanismSimulator /home/ssun30/RMG-Electrocat/ReactionMechanismSimulator.jl/src/Parse.jl:352\n",
      "┌ Warning: failed to generate StokesDiffusivity model for species O=O.[Pt]\n",
      "└ @ ReactionMechanismSimulator /home/ssun30/RMG-Electrocat/ReactionMechanismSimulator.jl/src/Parse.jl:352\n",
      "┌ Warning: failed to generate StokesDiffusivity model for species O=CC#[Pt]\n",
      "└ @ ReactionMechanismSimulator /home/ssun30/RMG-Electrocat/ReactionMechanismSimulator.jl/src/Parse.jl:352\n",
      "┌ Warning: failed to generate StokesDiffusivity model for species OO[Pt]\n",
      "└ @ ReactionMechanismSimulator /home/ssun30/RMG-Electrocat/ReactionMechanismSimulator.jl/src/Parse.jl:352\n",
      "┌ Warning: failed to generate StokesDiffusivity model for species O=C=C=O.[Pt]\n",
      "└ @ ReactionMechanismSimulator /home/ssun30/RMG-Electrocat/ReactionMechanismSimulator.jl/src/Parse.jl:352\n",
      "┌ Warning: failed to generate StokesDiffusivity model for species O=C(O)C#[Pt]\n",
      "└ @ ReactionMechanismSimulator /home/ssun30/RMG-Electrocat/ReactionMechanismSimulator.jl/src/Parse.jl:352\n",
      "┌ Warning: failed to generate StokesDiffusivity model for species OC(O)=[Pt]\n",
      "└ @ ReactionMechanismSimulator /home/ssun30/RMG-Electrocat/ReactionMechanismSimulator.jl/src/Parse.jl:352\n",
      "┌ Warning: failed to generate StokesDiffusivity model for species C=C=O.[Pt]\n",
      "└ @ ReactionMechanismSimulator /home/ssun30/RMG-Electrocat/ReactionMechanismSimulator.jl/src/Parse.jl:352\n",
      "┌ Warning: failed to generate StokesDiffusivity model for species OOC[Pt]\n",
      "└ @ ReactionMechanismSimulator /home/ssun30/RMG-Electrocat/ReactionMechanismSimulator.jl/src/Parse.jl:352\n",
      "┌ Warning: failed to generate StokesDiffusivity model for species COC(=O)[Pt]\n",
      "└ @ ReactionMechanismSimulator /home/ssun30/RMG-Electrocat/ReactionMechanismSimulator.jl/src/Parse.jl:352\n",
      "┌ Warning: failed to generate StokesDiffusivity model for species CC(=O)[Pt]\n",
      "└ @ ReactionMechanismSimulator /home/ssun30/RMG-Electrocat/ReactionMechanismSimulator.jl/src/Parse.jl:352\n",
      "┌ Warning: failed to generate StokesDiffusivity model for species O=COCC#[Pt]\n",
      "└ @ ReactionMechanismSimulator /home/ssun30/RMG-Electrocat/ReactionMechanismSimulator.jl/src/Parse.jl:352\n",
      "┌ Warning: failed to generate StokesDiffusivity model for species OCC#[Pt]\n",
      "└ @ ReactionMechanismSimulator /home/ssun30/RMG-Electrocat/ReactionMechanismSimulator.jl/src/Parse.jl:352\n",
      "┌ Warning: failed to generate StokesDiffusivity model for species O=CCC(=O)[Pt]\n",
      "└ @ ReactionMechanismSimulator /home/ssun30/RMG-Electrocat/ReactionMechanismSimulator.jl/src/Parse.jl:352\n",
      "┌ Warning: failed to generate StokesDiffusivity model for species OC(O)C#[Pt]\n",
      "└ @ ReactionMechanismSimulator /home/ssun30/RMG-Electrocat/ReactionMechanismSimulator.jl/src/Parse.jl:352\n",
      "┌ Warning: failed to generate StokesDiffusivity model for species O=C([Pt])CO\n",
      "└ @ ReactionMechanismSimulator /home/ssun30/RMG-Electrocat/ReactionMechanismSimulator.jl/src/Parse.jl:352\n",
      "┌ Warning: failed to generate StokesDiffusivity model for species OCOC#[Pt]\n",
      "└ @ ReactionMechanismSimulator /home/ssun30/RMG-Electrocat/ReactionMechanismSimulator.jl/src/Parse.jl:352\n",
      "┌ Warning: failed to generate StokesDiffusivity model for species O=CCOC#[Pt]\n",
      "└ @ ReactionMechanismSimulator /home/ssun30/RMG-Electrocat/ReactionMechanismSimulator.jl/src/Parse.jl:352\n",
      "┌ Warning: failed to generate StokesDiffusivity model for species COC#[Pt]\n",
      "└ @ ReactionMechanismSimulator /home/ssun30/RMG-Electrocat/ReactionMechanismSimulator.jl/src/Parse.jl:352\n",
      "┌ Warning: failed to generate StokesDiffusivity model for species O=CC(=O)C#[Pt]\n",
      "└ @ ReactionMechanismSimulator /home/ssun30/RMG-Electrocat/ReactionMechanismSimulator.jl/src/Parse.jl:352\n",
      "┌ Warning: failed to generate StokesDiffusivity model for species O=C=C[Pt]\n",
      "└ @ ReactionMechanismSimulator /home/ssun30/RMG-Electrocat/ReactionMechanismSimulator.jl/src/Parse.jl:352\n",
      "┌ Warning: failed to generate StokesDiffusivity model for species O=COC=[Pt]\n",
      "└ @ ReactionMechanismSimulator /home/ssun30/RMG-Electrocat/ReactionMechanismSimulator.jl/src/Parse.jl:352\n",
      "┌ Warning: failed to generate StokesDiffusivity model for species CC#[Pt]\n",
      "└ @ ReactionMechanismSimulator /home/ssun30/RMG-Electrocat/ReactionMechanismSimulator.jl/src/Parse.jl:352\n",
      "┌ Warning: failed to generate StokesDiffusivity model for species COC(=O)C#[Pt]\n",
      "└ @ ReactionMechanismSimulator /home/ssun30/RMG-Electrocat/ReactionMechanismSimulator.jl/src/Parse.jl:352\n",
      "┌ Warning: failed to generate StokesDiffusivity model for species O=C=CC#[Pt]\n",
      "└ @ ReactionMechanismSimulator /home/ssun30/RMG-Electrocat/ReactionMechanismSimulator.jl/src/Parse.jl:352\n",
      "┌ Warning: failed to generate StokesDiffusivity model for species O=CCC#[Pt]\n",
      "└ @ ReactionMechanismSimulator /home/ssun30/RMG-Electrocat/ReactionMechanismSimulator.jl/src/Parse.jl:352\n",
      "┌ Warning: failed to generate StokesDiffusivity model for species O=C=CO[Pt]\n",
      "└ @ ReactionMechanismSimulator /home/ssun30/RMG-Electrocat/ReactionMechanismSimulator.jl/src/Parse.jl:352\n",
      "┌ Warning: failed to generate StokesDiffusivity model for species O=C=CO.[Pt]\n",
      "└ @ ReactionMechanismSimulator /home/ssun30/RMG-Electrocat/ReactionMechanismSimulator.jl/src/Parse.jl:352\n",
      "┌ Warning: failed to generate StokesDiffusivity model for species O=C=CC(=O)[Pt]\n",
      "└ @ ReactionMechanismSimulator /home/ssun30/RMG-Electrocat/ReactionMechanismSimulator.jl/src/Parse.jl:352\n",
      "┌ Warning: failed to generate StokesDiffusivity model for species O=C=C=[Pt]\n",
      "└ @ ReactionMechanismSimulator /home/ssun30/RMG-Electrocat/ReactionMechanismSimulator.jl/src/Parse.jl:352\n",
      "┌ Warning: failed to generate StokesDiffusivity model for species CC(=O)C#[Pt]\n",
      "└ @ ReactionMechanismSimulator /home/ssun30/RMG-Electrocat/ReactionMechanismSimulator.jl/src/Parse.jl:352\n",
      "┌ Warning: failed to generate StokesDiffusivity model for species O=C(C#[Pt])CO\n",
      "└ @ ReactionMechanismSimulator /home/ssun30/RMG-Electrocat/ReactionMechanismSimulator.jl/src/Parse.jl:352\n",
      "┌ Warning: failed to generate StokesDiffusivity model for species CH3X\n",
      "└ @ ReactionMechanismSimulator /home/ssun30/RMG-Electrocat/ReactionMechanismSimulator.jl/src/Parse.jl:352\n",
      "┌ Warning: failed to generate StokesDiffusivity model for species CC(=O)O[Pt]\n",
      "└ @ ReactionMechanismSimulator /home/ssun30/RMG-Electrocat/ReactionMechanismSimulator.jl/src/Parse.jl:352\n",
      "┌ Warning: failed to generate StokesDiffusivity model for species O=CC=[Pt]\n",
      "└ @ ReactionMechanismSimulator /home/ssun30/RMG-Electrocat/ReactionMechanismSimulator.jl/src/Parse.jl:352\n",
      "┌ Warning: failed to generate StokesDiffusivity model for species O=C=CC=O.[Pt]\n",
      "└ @ ReactionMechanismSimulator /home/ssun30/RMG-Electrocat/ReactionMechanismSimulator.jl/src/Parse.jl:352\n",
      "┌ Warning: failed to generate StokesDiffusivity model for species CC(=O)OC#[Pt]\n",
      "└ @ ReactionMechanismSimulator /home/ssun30/RMG-Electrocat/ReactionMechanismSimulator.jl/src/Parse.jl:352\n",
      "┌ Warning: failed to generate StokesDiffusivity model for species O=C=C([Pt])C=O\n",
      "└ @ ReactionMechanismSimulator /home/ssun30/RMG-Electrocat/ReactionMechanismSimulator.jl/src/Parse.jl:352\n",
      "┌ Warning: failed to generate StokesDiffusivity model for species CC(=O)C(=O)[Pt]\n",
      "└ @ ReactionMechanismSimulator /home/ssun30/RMG-Electrocat/ReactionMechanismSimulator.jl/src/Parse.jl:352\n",
      "┌ Warning: failed to generate StokesDiffusivity model for species O=CC[Pt]\n",
      "└ @ ReactionMechanismSimulator /home/ssun30/RMG-Electrocat/ReactionMechanismSimulator.jl/src/Parse.jl:352\n",
      "┌ Warning: failed to generate StokesDiffusivity model for species OOC#[Pt]\n",
      "└ @ ReactionMechanismSimulator /home/ssun30/RMG-Electrocat/ReactionMechanismSimulator.jl/src/Parse.jl:352\n",
      "┌ Warning: failed to generate StokesDiffusivity model for species O=C=COC#[Pt]\n",
      "└ @ ReactionMechanismSimulator /home/ssun30/RMG-Electrocat/ReactionMechanismSimulator.jl/src/Parse.jl:352\n",
      "┌ Warning: failed to generate StokesDiffusivity model for species O=C=C(O)[Pt]\n",
      "└ @ ReactionMechanismSimulator /home/ssun30/RMG-Electrocat/ReactionMechanismSimulator.jl/src/Parse.jl:352\n",
      "┌ Warning: failed to generate StokesDiffusivity model for species COO[Pt]\n",
      "└ @ ReactionMechanismSimulator /home/ssun30/RMG-Electrocat/ReactionMechanismSimulator.jl/src/Parse.jl:352\n",
      "┌ Warning: failed to generate StokesDiffusivity model for species O=C=C(O)C#[Pt]\n",
      "└ @ ReactionMechanismSimulator /home/ssun30/RMG-Electrocat/ReactionMechanismSimulator.jl/src/Parse.jl:352\n",
      "┌ Warning: failed to generate StokesDiffusivity model for species COC=O.[Pt]\n",
      "└ @ ReactionMechanismSimulator /home/ssun30/RMG-Electrocat/ReactionMechanismSimulator.jl/src/Parse.jl:352\n",
      "┌ Warning: failed to generate StokesDiffusivity model for species COOC#[Pt]\n",
      "└ @ ReactionMechanismSimulator /home/ssun30/RMG-Electrocat/ReactionMechanismSimulator.jl/src/Parse.jl:352\n",
      "┌ Warning: failed to generate StokesDiffusivity model for species CO.[Pt]\n",
      "└ @ ReactionMechanismSimulator /home/ssun30/RMG-Electrocat/ReactionMechanismSimulator.jl/src/Parse.jl:352\n",
      "┌ Warning: failed to generate StokesDiffusivity model for species O=CC(O)[Pt]\n",
      "└ @ ReactionMechanismSimulator /home/ssun30/RMG-Electrocat/ReactionMechanismSimulator.jl/src/Parse.jl:352\n",
      "┌ Warning: failed to generate StokesDiffusivity model for species O=CC(O)C#[Pt]\n",
      "└ @ ReactionMechanismSimulator /home/ssun30/RMG-Electrocat/ReactionMechanismSimulator.jl/src/Parse.jl:352\n",
      "┌ Warning: failed to generate StokesDiffusivity model for species O=CC(O)=[Pt]\n",
      "└ @ ReactionMechanismSimulator /home/ssun30/RMG-Electrocat/ReactionMechanismSimulator.jl/src/Parse.jl:352\n",
      "┌ Warning: failed to generate StokesDiffusivity model for species OCO.[Pt]\n",
      "└ @ ReactionMechanismSimulator /home/ssun30/RMG-Electrocat/ReactionMechanismSimulator.jl/src/Parse.jl:352\n",
      "┌ Warning: failed to generate StokesDiffusivity model for species O=CC([Pt])C=O\n",
      "└ @ ReactionMechanismSimulator /home/ssun30/RMG-Electrocat/ReactionMechanismSimulator.jl/src/Parse.jl:352\n",
      "┌ Warning: failed to generate StokesDiffusivity model for species O=CC(=[Pt])C=O\n",
      "└ @ ReactionMechanismSimulator /home/ssun30/RMG-Electrocat/ReactionMechanismSimulator.jl/src/Parse.jl:352\n",
      "┌ Warning: failed to generate StokesDiffusivity model for species O=C=CC=[Pt]\n",
      "└ @ ReactionMechanismSimulator /home/ssun30/RMG-Electrocat/ReactionMechanismSimulator.jl/src/Parse.jl:352\n",
      "┌ Warning: failed to generate StokesDiffusivity model for species OOCC#[Pt]\n",
      "└ @ ReactionMechanismSimulator /home/ssun30/RMG-Electrocat/ReactionMechanismSimulator.jl/src/Parse.jl:352\n",
      "┌ Warning: failed to generate StokesDiffusivity model for species O=C=C=C=O.[Pt]\n",
      "└ @ ReactionMechanismSimulator /home/ssun30/RMG-Electrocat/ReactionMechanismSimulator.jl/src/Parse.jl:352\n"
     ]
    },
    {
     "data": {
      "text/plain": [
       "Dict{Any, Any} with 4 entries:\n",
       "  \"Solvents\"              => Solvent[Solvent(\"water\", RiedelViscosity{Float64}(…\n",
       "  Set([\"surface\", \"gas\"]) => Dict{Any, Any}(\"Reactions\"=>ElementaryReaction[vac…\n",
       "  \"gas\"                   => Dict{Any, Any}(\"Species\"=>Species[Species{NASA{Emp…\n",
       "  \"surface\"               => Dict{Any, Any}(\"Species\"=>Species[Species{NASA{Emp…"
      ]
     },
     "metadata": {},
     "output_type": "display_data"
    }
   ],
   "source": [
    "outdict = readinput(\"chem131.rms\")\n"
   ]
  },
  {
   "cell_type": "code",
   "execution_count": 3,
   "id": "fe2767e9",
   "metadata": {},
   "outputs": [],
   "source": [
    "liqspcs = outdict[\"gas\"][\"Species\"]\n",
    "liqrxns = outdict[\"gas\"][\"Reactions\"]\n",
    "surfspcs = outdict[\"surface\"][\"Species\"]\n",
    "surfrxns = outdict[\"surface\"][\"Reactions\"]\n",
    "interfacerxns = outdict[Set([\"surface\", \"gas\"])][\"Reactions\"]\n",
    "solv = outdict[\"Solvents\"][1];"
   ]
  },
  {
   "cell_type": "code",
   "execution_count": 4,
   "id": "8c0c913b",
   "metadata": {},
   "outputs": [
    {
     "data": {
      "text/plain": [
       "48-element Vector{Species}:\n",
       " Species{NASA{EmptyThermoUncertainty}, StokesDiffusivity{Float64}, EmptyHenryLawConstant, EmptyLiquidVolumetricMassTransferCoefficient}(\"Ar\", 1, \"\", \"[Ar]\", \"\", NASA{EmptyThermoUncertainty}\n",
       "  polys: Array{NASApolynomial}((2,))\n",
       "  unc: EmptyThermoUncertainty EmptyThermoUncertainty()\n",
       ", Dict(\"Ar\" => 1), 0, StokesDiffusivity{Float64}\n",
       "  r: Float64 1.9598907720674282e-10\n",
       ", 1.9598907720674282e-10, 0, 0.039948, EmptyHenryLawConstant(), EmptyLiquidVolumetricMassTransferCoefficient(), \"Thermo library corrected for liquid phase: primaryThermoLibrary + Solvation\\ncorrection with water as solvent and solute estimated using Solute library:\\nAr\", false, false)\n",
       " Species{NASA{EmptyThermoUncertainty}, StokesDiffusivity{Float64}, EmptyHenryLawConstant, EmptyLiquidVolumetricMassTransferCoefficient}(\"He\", 2, \"\", \"[He]\", \"\", NASA{EmptyThermoUncertainty}\n",
       "  polys: Array{NASApolynomial}((2,))\n",
       "  unc: EmptyThermoUncertainty EmptyThermoUncertainty()\n",
       ", Dict(\"He\" => 1), 0, StokesDiffusivity{Float64}\n",
       "  r: Float64 1.388326043984974e-10\n",
       ", 1.388326043984974e-10, 0, 0.0040030000000000005, EmptyHenryLawConstant(), EmptyLiquidVolumetricMassTransferCoefficient(), \"Thermo library corrected for liquid phase: primaryThermoLibrary + Solvation\\ncorrection with water as solvent and solute estimated using Solute library:\\nHe\", false, false)\n",
       " Species{NASA{EmptyThermoUncertainty}, StokesDiffusivity{Float64}, EmptyHenryLawConstant, EmptyLiquidVolumetricMassTransferCoefficient}(\"Ne\", 3, \"\", \"[Ne]\", \"\", NASA{EmptyThermoUncertainty}\n",
       "  polys: Array{NASApolynomial}((2,))\n",
       "  unc: EmptyThermoUncertainty EmptyThermoUncertainty()\n",
       ", Dict(\"Ne\" => 1), 0, StokesDiffusivity{Float64}\n",
       "  r: Float64 1.4998001747582827e-10\n",
       ", 1.4998001747582827e-10, 0, 0.02018, EmptyHenryLawConstant(), EmptyLiquidVolumetricMassTransferCoefficient(), \"Thermo library corrected for liquid phase: primaryThermoLibrary + Solvation\\ncorrection with water as solvent and solute estimated using Solute library:\\nNe\", false, false)\n",
       " Species{NASA{EmptyThermoUncertainty}, StokesDiffusivity{Float64}, EmptyHenryLawConstant, EmptyLiquidVolumetricMassTransferCoefficient}(\"N2\", 4, \"\", \"N#N\", \"\", NASA{EmptyThermoUncertainty}\n",
       "  polys: Array{NASApolynomial}((2,))\n",
       "  unc: EmptyThermoUncertainty EmptyThermoUncertainty()\n",
       ", Dict(\"N\" => 2), 1, StokesDiffusivity{Float64}\n",
       "  r: Float64 2.0652449301364696e-10\n",
       ", 2.0652449301364696e-10, 0, 0.028014, EmptyHenryLawConstant(), EmptyLiquidVolumetricMassTransferCoefficient(), \"Thermo library corrected for liquid phase: primaryThermoLibrary + Solvation\\ncorrection with water as solvent and solute estimated using Solute library:\\nN2\", false, false)\n",
       " Species{NASA{EmptyThermoUncertainty}, StokesDiffusivity{Float64}, EmptyHenryLawConstant, EmptyLiquidVolumetricMassTransferCoefficient}(\"CO2\", 5, \"\", \"O=C=O\", \"\", NASA{EmptyThermoUncertainty}\n",
       "  polys: Array{NASApolynomial}((2,))\n",
       "  unc: EmptyThermoUncertainty EmptyThermoUncertainty()\n",
       ", Dict(\"C\" => 1, \"O\" => 2), 2, StokesDiffusivity{Float64}\n",
       "  r: Float64 2.2330963390390347e-10\n",
       ", 2.2330963390390347e-10, 0, 0.044009, EmptyHenryLawConstant(), EmptyLiquidVolumetricMassTransferCoefficient(), \"Thermo library corrected for liquid phase: thermo_DFT_CCSDTF12_BAC +\\nSolvation correction with water as solvent and solute estimated using Solute\\nlibrary: carbon dioxide\", false, false)\n",
       " Species{NASA{EmptyThermoUncertainty}, StokesDiffusivity{Float64}, EmptyHenryLawConstant, EmptyLiquidVolumetricMassTransferCoefficient}(\"proton\", 6, \"\", \"[H]\", \"\", NASA{EmptyThermoUncertainty}\n",
       "  polys: Array{NASApolynomial}((2,))\n",
       "  unc: EmptyThermoUncertainty EmptyThermoUncertainty()\n",
       ", Dict(\"H\" => 1), 0, StokesDiffusivity{Float64}\n",
       "  r: Float64 1.5114586307031264e-10\n",
       ", 1.5114586307031264e-10, 0, 0.001008, EmptyHenryLawConstant(), EmptyLiquidVolumetricMassTransferCoefficient(), \"1/2 free energy of H2(g)Thermo library corrected for liquid phase: electrocatThermo\\n+ Solvation correction with water as solvent and solute estimated using \", false, false)\n",
       " Species{NASA{EmptyThermoUncertainty}, StokesDiffusivity{Float64}, EmptyHenryLawConstant, EmptyLiquidVolumetricMassTransferCoefficient}(\"H\", 7, \"\", \"[H]\", \"\", NASA{EmptyThermoUncertainty}\n",
       "  polys: Array{NASApolynomial}((2,))\n",
       "  unc: EmptyThermoUncertainty EmptyThermoUncertainty()\n",
       ", Dict(\"H\" => 1), 0, StokesDiffusivity{Float64}\n",
       "  r: Float64 1.5114586307031264e-10\n",
       ", 1.5114586307031264e-10, 1, 0.001008, EmptyHenryLawConstant(), EmptyLiquidVolumetricMassTransferCoefficient(), \"Thermo library corrected for liquid phase: primaryThermoLibrary + Solvation\\ncorrection with water as solvent and solute estimated using Solute library:\\n[H]\", false, false)\n",
       " Species{NASA{EmptyThermoUncertainty}, StokesDiffusivity{Float64}, EmptyHenryLawConstant, EmptyLiquidVolumetricMassTransferCoefficient}(\"C=O\", 8, \"\", \"C=O\", \"\", NASA{EmptyThermoUncertainty}\n",
       "  polys: Array{NASApolynomial}((2,))\n",
       "  unc: EmptyThermoUncertainty EmptyThermoUncertainty()\n",
       ", Dict(\"C\" => 1, \"H\" => 2, \"O\" => 1), 3, StokesDiffusivity{Float64}\n",
       "  r: Float64 2.1906923234888676e-10\n",
       ", 2.1906923234888676e-10, 0, 0.030025999999999997, EmptyHenryLawConstant(), EmptyLiquidVolumetricMassTransferCoefficient(), \"Thermo library corrected for liquid phase: thermo_DFT_CCSDTF12_BAC +\\nSolvation correction with water as solvent and solute estimated using Solute\\nlibrary: formaldehyde\", false, false)\n",
       " Species{NASA{EmptyThermoUncertainty}, StokesDiffusivity{Float64}, EmptyHenryLawConstant, EmptyLiquidVolumetricMassTransferCoefficient}(\"O=CO\", 9, \"\", \"O=CO\", \"\", NASA{EmptyThermoUncertainty}\n",
       "  polys: Array{NASApolynomial}((2,))\n",
       "  unc: EmptyThermoUncertainty EmptyThermoUncertainty()\n",
       ", Dict(\"C\" => 1, \"H\" => 2, \"O\" => 2), 4, StokesDiffusivity{Float64}\n",
       "  r: Float64 2.3416781082039845e-10\n",
       ", 2.3416781082039845e-10, 0, 0.046025, EmptyHenryLawConstant(), EmptyLiquidVolumetricMassTransferCoefficient(), \"Thermo library corrected for liquid phase: thermo_DFT_CCSDTF12_BAC +\\nSolvation correction with water as solvent and solute estimated using Solute\\nlibrary: formic acid\", false, false)\n",
       " Species{NASA{EmptyThermoUncertainty}, StokesDiffusivity{Float64}, EmptyHenryLawConstant, EmptyLiquidVolumetricMassTransferCoefficient}(\"H2O\", 10, \"\", \"O\", \"\", NASA{EmptyThermoUncertainty}\n",
       "  polys: Array{NASApolynomial}((2,))\n",
       "  unc: EmptyThermoUncertainty EmptyThermoUncertainty()\n",
       ", Dict(\"H\" => 2, \"O\" => 1), 2, StokesDiffusivity{Float64}\n",
       "  r: Float64 1.878835944368019e-10\n",
       ", 1.878835944368019e-10, 0, 0.018015, EmptyHenryLawConstant(), EmptyLiquidVolumetricMassTransferCoefficient(), \"Thermo library corrected for liquid phase: primaryThermoLibrary + Solvation\\ncorrection with water as solvent and solute estimated using Solute library:\\nwater\", false, false)\n",
       " ⋮\n",
       " Species{NASA{EmptyThermoUncertainty}, StokesDiffusivity{Float64}, EmptyHenryLawConstant, EmptyLiquidVolumetricMassTransferCoefficient}(\"C=C(O)O\", 40, \"\", \"C=C(O)O\", \"\", NASA{EmptyThermoUncertainty}\n",
       "  polys: Array{NASApolynomial}((2,))\n",
       "  unc: EmptyThermoUncertainty EmptyThermoUncertainty()\n",
       ", Dict(\"C\" => 2, \"H\" => 4, \"O\" => 2), 7, StokesDiffusivity{Float64}\n",
       "  r: Float64 2.641266681600083e-10\n",
       ", 2.641266681600083e-10, 0, 0.060052000000000015, EmptyHenryLawConstant(), EmptyLiquidVolumetricMassTransferCoefficient(), \"Thermo group additivity estimation: group(O2s-(Cds-Cd)H) + group(O2s-(Cds-Cd)H)\\n+ group(Cds-CdsCsCs) + group(Cds-CdsHH) + Solvation correction with water as\\nsolvent and solute estimated using group(O2s-(Cds-Cd)H) + group(O2s-(Cds-Cd)H)\\n+ group(Crds-CrdsOrsOs) + group(Cds-CdsHH)\", false, false)\n",
       " Species{NASA{EmptyThermoUncertainty}, StokesDiffusivity{Float64}, EmptyHenryLawConstant, EmptyLiquidVolumetricMassTransferCoefficient}(\"CC(=O)C=O\", 41, \"\", \"CC(=O)C=O\", \"\", NASA{EmptyThermoUncertainty}\n",
       "  polys: Array{NASApolynomial}((2,))\n",
       "  unc: EmptyThermoUncertainty EmptyThermoUncertainty()\n",
       ", Dict(\"C\" => 3, \"H\" => 4, \"O\" => 2), 8, StokesDiffusivity{Float64}\n",
       "  r: Float64 2.815026698809778e-10\n",
       ", 2.815026698809778e-10, 0, 0.07206299999999997, EmptyHenryLawConstant(), EmptyLiquidVolumetricMassTransferCoefficient(), \"Thermo group additivity estimation: group(Cs-(Cds-O2d)HHH) + group(Cds-O2d(Cds-O2d)Cs)\\n+ group(Cds-O2d(Cds-O2d)H) + Solvation correction with water as solvent and\\nsolute estimated using group(O2d-Cd) + group(O2d-Cd) + group(Cs-(Cds-O2d)HHH)\\n+ group(Cds-O2d(Cds-O2d)Cs) + group(Cds-O2d(Cds-O2d)H)\", false, false)\n",
       " Species{NASA{EmptyThermoUncertainty}, StokesDiffusivity{Float64}, EmptyHenryLawConstant, EmptyLiquidVolumetricMassTransferCoefficient}(\"CC(=O)O\", 42, \"\", \"CC(=O)O\", \"\", NASA{EmptyThermoUncertainty}\n",
       "  polys: Array{NASApolynomial}((2,))\n",
       "  unc: EmptyThermoUncertainty EmptyThermoUncertainty()\n",
       ", Dict(\"C\" => 2, \"H\" => 4, \"O\" => 2), 7, StokesDiffusivity{Float64}\n",
       "  r: Float64 2.641266681600083e-10\n",
       ", 2.641266681600083e-10, 0, 0.060052000000000015, EmptyHenryLawConstant(), EmptyLiquidVolumetricMassTransferCoefficient(), \"Thermo library corrected for liquid phase: DFT_QCI_thermo + Solvation\\ncorrection with water as solvent and solute estimated using Solute library:\\nacetic acid\", false, false)\n",
       " Species{NASA{EmptyThermoUncertainty}, StokesDiffusivity{Float64}, EmptyHenryLawConstant, EmptyLiquidVolumetricMassTransferCoefficient}(\"O=CCC=O\", 43, \"\", \"O=CCC=O\", \"\", NASA{EmptyThermoUncertainty}\n",
       "  polys: Array{NASApolynomial}((2,))\n",
       "  unc: EmptyThermoUncertainty EmptyThermoUncertainty()\n",
       ", Dict(\"C\" => 3, \"H\" => 4, \"O\" => 2), 8, StokesDiffusivity{Float64}\n",
       "  r: Float64 2.815026698809778e-10\n",
       ", 2.815026698809778e-10, 0, 0.07206299999999997, EmptyHenryLawConstant(), EmptyLiquidVolumetricMassTransferCoefficient(), \"Thermo group additivity estimation: group(Cs-(Cds-O2d)(Cds-O2d)HH) +\\ngroup(Cds-OdCsH) + group(Cds-OdCsH) + Solvation correction with water as solvent\\nand solute estimated using group(O2d-Cd) + group(O2d-Cd) + group(Cs-(Cds-O2d)(Cds-O2d)HH)\\n+ group(Cds-OdCsH) + group(Cds-OdCsH)\", false, false)\n",
       " Species{NASA{EmptyThermoUncertainty}, StokesDiffusivity{Float64}, EmptyHenryLawConstant, EmptyLiquidVolumetricMassTransferCoefficient}(\"COC(C)=O\", 44, \"\", \"COC(C)=O\", \"\", NASA{EmptyThermoUncertainty}\n",
       "  polys: Array{NASApolynomial}((2,))\n",
       "  unc: EmptyThermoUncertainty EmptyThermoUncertainty()\n",
       ", Dict(\"C\" => 3, \"H\" => 6, \"O\" => 2), 10, StokesDiffusivity{Float64}\n",
       "  r: Float64 2.884979541331604e-10\n",
       ", 2.884979541331604e-10, 0, 0.07407899999999996, EmptyHenryLawConstant(), EmptyLiquidVolumetricMassTransferCoefficient(), \"Thermo group additivity estimation: group(O2s-Cs(Cds-O2d)) + group(Cs-(Cds-O2d)HHH)\\n+ group(Cs-OsHHH) + group(Cds-OdCsOs) + Solvation correction with water as solvent\\nand solute estimated using Solute library: methyl acetate\", false, false)\n",
       " Species{NASA{EmptyThermoUncertainty}, StokesDiffusivity{Float64}, EmptyHenryLawConstant, EmptyLiquidVolumetricMassTransferCoefficient}(\"CC(=O)CO\", 45, \"\", \"CC(=O)CO\", \"\", NASA{EmptyThermoUncertainty}\n",
       "  polys: Array{NASApolynomial}((2,))\n",
       "  unc: EmptyThermoUncertainty EmptyThermoUncertainty()\n",
       ", Dict(\"C\" => 3, \"H\" => 6, \"O\" => 2), 10, StokesDiffusivity{Float64}\n",
       "  r: Float64 2.884979541331604e-10\n",
       ", 2.884979541331604e-10, 0, 0.07407899999999996, EmptyHenryLawConstant(), EmptyLiquidVolumetricMassTransferCoefficient(), \"Thermo group additivity estimation: group(O2s-CsH) + group(Cs-(Cds-O2d)OsHH)\\n+ group(Cs-(Cds-O2d)HHH) + group(Cds-OdCsCs) + Solvation correction with water\\nas solvent and solute estimated using group(O2s-CsH) + group(O2d-Cd) + group(Cs-(Cds-O2d)(Os-H)HH)\\n+ group(Cs-(Cds-O2d)HHH) + group(Cds-OdCsCs)\", false, false)\n",
       " Species{NASA{EmptyThermoUncertainty}, StokesDiffusivity{Float64}, EmptyHenryLawConstant, EmptyLiquidVolumetricMassTransferCoefficient}(\"COC=C=O\", 46, \"\", \"COC=C=O\", \"\", NASA{EmptyThermoUncertainty}\n",
       "  polys: Array{NASApolynomial}((2,))\n",
       "  unc: EmptyThermoUncertainty EmptyThermoUncertainty()\n",
       ", Dict(\"C\" => 3, \"H\" => 4, \"O\" => 2), 8, StokesDiffusivity{Float64}\n",
       "  r: Float64 2.815026698809778e-10\n",
       ", 2.815026698809778e-10, 0, 0.07206299999999997, EmptyHenryLawConstant(), EmptyLiquidVolumetricMassTransferCoefficient(), \"Thermo group additivity estimation: group(O2s-Cs(Cds-Cd)) + missing(O2d-Cdd)\\n+ group(Cs-OsHHH) + group(Cds-(Cdd-O2d)OsH) + missing(Cdd-CdO2d) + Solvation\\ncorrection with water as solvent and solute estimated using group(O2s-Cs(Cds-Cd))\\n+ group(O2d-Cdd) + group(Cs-OsHHH) + group(Cds-CdsOsH) + group(Cdd-CdsCds)\", false, false)\n",
       " Species{NASA{EmptyThermoUncertainty}, StokesDiffusivity{Float64}, EmptyHenryLawConstant, EmptyLiquidVolumetricMassTransferCoefficient}(\"O=C=CCO\", 47, \"\", \"O=C=CCO\", \"\", NASA{EmptyThermoUncertainty}\n",
       "  polys: Array{NASApolynomial}((2,))\n",
       "  unc: EmptyThermoUncertainty EmptyThermoUncertainty()\n",
       ", Dict(\"C\" => 3, \"H\" => 4, \"O\" => 2), 8, StokesDiffusivity{Float64}\n",
       "  r: Float64 2.815026698809778e-10\n",
       ", 2.815026698809778e-10, 0, 0.07206299999999997, EmptyHenryLawConstant(), EmptyLiquidVolumetricMassTransferCoefficient(), \"Thermo group additivity estimation: group(O2s-CsH) + missing(O2d-Cdd)\\n+ group(Cs-(Cds-Cdd-O2d)OsHH) + group(Cds-(Cdd-O2d)CsH) + missing(Cdd-CdO2d)\\n+ Solvation correction with water as solvent and solute estimated using group(O2s-CsH)\\n+ group(O2d-Cdd) + group(Cs-(Cds-Cds)(Os-R)HH) + group(Cds-CddCH) + group(Cdd-CdsCds)\", false, false)\n",
       " Species{NASA{EmptyThermoUncertainty}, StokesDiffusivity{Float64}, EmptyHenryLawConstant, EmptyLiquidVolumetricMassTransferCoefficient}(\"C=COC=O\", 48, \"\", \"C=COC=O\", \"\", NASA{EmptyThermoUncertainty}\n",
       "  polys: Array{NASApolynomial}((2,))\n",
       "  unc: EmptyThermoUncertainty EmptyThermoUncertainty()\n",
       ", Dict(\"C\" => 3, \"H\" => 4, \"O\" => 2), 8, StokesDiffusivity{Float64}\n",
       "  r: Float64 2.815026698809778e-10\n",
       ", 2.815026698809778e-10, 0, 0.07206299999999997, EmptyHenryLawConstant(), EmptyLiquidVolumetricMassTransferCoefficient(), \"Thermo group additivity estimation: group(O2s-(Cds-O2d)(Cds-Cd)) + group(Cds-CdsOsH)\\n+ group(Cds-CdsHH) + group(Cds-OdOsH) + Solvation correction with water as solvent\\nand solute estimated using group(O2s-(Cds-O2d)(Cds-Cd)) + group(O2d-Cd) + group(Cds-CdsOsH)\\n+ group(Cds-CdsHH) + group(Cds-OdOsH)\", false, false)"
      ]
     },
     "metadata": {},
     "output_type": "display_data"
    }
   ],
   "source": [
    "liqspcs"
   ]
  },
  {
   "cell_type": "code",
   "execution_count": 5,
   "id": "7588662a",
   "metadata": {},
   "outputs": [
    {
     "data": {
      "text/plain": [
       "(:index, :reactants, :reactantinds, :products, :productinds, :kinetics, :electronchange, :radicalchange, :reversible, :forwardable, :pairs, :fragmentbasedreactants, :fragmentbasedproducts, :fragmentbasedreactantinds, :fragmentbasedproductinds, :comment)"
      ]
     },
     "metadata": {},
     "output_type": "display_data"
    }
   ],
   "source": [
    "fieldnames(typeof(interfacerxns[15]))"
   ]
  },
  {
   "cell_type": "code",
   "execution_count": 6,
   "id": "e73ccd8c",
   "metadata": {},
   "outputs": [
    {
     "data": {
      "text/plain": [
       "247-element Vector{ElementaryReaction}:\n",
       " vacantX+CO2<=>CO2X\n",
       " proton+CO2X<=>CHO2X\n",
       " proton+CO2X<=>CO2HX\n",
       " proton+CHO2X<=>CH2O2X\n",
       " proton+CO2HX<=>CH2O2X\n",
       " proton+OCX<=>CHOX\n",
       " proton+CHOX<=>CH2OX\n",
       " vacantX+vacantX+CO2<=>OX+OCX\n",
       " OX+proton<=>HOX\n",
       " vacantX+C=O<=>CH2OX\n",
       " ⋮\n",
       " vacantX+vacantX+O=C=CCO<=>OC[Pt]+O=C=C[Pt]\n",
       " proton+O=C=CC=[Pt]<=>CHX+C=C=O\n",
       " proton+O=C=CC#[Pt]<=>O=C=CC=[Pt]\n",
       " vacantX+vacantX+O=C=CC=O<=>OX+O=C=CC=[Pt]\n",
       " proton+OOCC#[Pt]<=>CX+COO\n",
       " vacantX+vacantX+C=COC=O<=>CH2X+O=COC=[Pt]\n",
       " proton+O=C=C=C=O.[Pt]<=>O=C=CC(=O)[Pt]\n",
       " vacantX+O=C=C=C=O<=>O=C=C=C=O.[Pt]\n",
       " proton+O=C=C=C=O.[Pt]<=>O=C=C([Pt])C=O"
      ]
     },
     "metadata": {},
     "output_type": "display_data"
    }
   ],
   "source": [
    "interfacerxns"
   ]
  },
  {
   "cell_type": "code",
   "execution_count": 7,
   "id": "c54ee65e",
   "metadata": {},
   "outputs": [],
   "source": [
    "sitedensity = 2.292e-5 # Ag111\n",
    "liq = IdealDiluteSolution(liqspcs,liqrxns,solv,name=\"liquid\",diffusionlimited=true);\n",
    "surf = IdealSurface(surfspcs,surfrxns,sitedensity,name=\"surface\");"
   ]
  },
  {
   "cell_type": "code",
   "execution_count": 8,
   "id": "8894c84d",
   "metadata": {},
   "outputs": [],
   "source": [
    "initialcondsliq = Dict([\"proton\"=>10.0^-4,\n",
    "        \"CO2\"=>10.0^-3*10^6,\n",
    "        \"V\"=>1.0,\"T\"=>300,\"Phi\"=>0.0,\"d\"=>0.0]);\n",
    "AVratio = 1.0e5\n",
    "initialcondssurf = Dict([\"CO2X\"=>0.4*sitedensity*AVratio,\n",
    "        \"CHO2X\"=>0.1*sitedensity*AVratio,\n",
    "        \"CO2HX\"=>0.1*sitedensity*AVratio,\n",
    "        \"OX\"=>0.1*sitedensity*AVratio,\n",
    "        \"OCX\"=>0.1*sitedensity*AVratio,\n",
    "        \"vacantX\"=>0.1*sitedensity*AVratio,\n",
    "        \"CH2O2X\"=>0.05*sitedensity*AVratio,\n",
    "        \"CHOX\"=>0.04*sitedensity*AVratio,\n",
    "        \"CH2OX\"=>0.01*sitedensity*AVratio,\n",
    "        \"A\"=>1.0*AVratio,\"T\"=>300,\"Phi\"=>-1.5]);"
   ]
  },
  {
   "cell_type": "code",
   "execution_count": 9,
   "id": "ddb39b3d",
   "metadata": {
    "scrolled": false
   },
   "outputs": [],
   "source": [
    "domainliq,y0liq,pliq = ConstantTVDomain(phase=liq,\n",
    "    initialconds=initialcondsliq,constantspecies=[\"proton\",\"CO2\"]);\n",
    "domaincat,y0cat,pcat = ConstantTAPhiDomain(phase=surf,\n",
    "    initialconds=initialcondssurf);"
   ]
  },
  {
   "cell_type": "code",
   "execution_count": 10,
   "id": "24424a3d",
   "metadata": {},
   "outputs": [
    {
     "data": {
      "text/plain": [
       "ConstantTAPhiDomain{IdealSurface{Tuple{Arrheniusvec{Vector{Float64}, Vector{Float64}, Vector{Float64}}}, SparseArrays.SparseMatrixCSC{Float64, Int64}, Vector{Float64}, ReactionMechanismSimulator.NASAvec{EmptyThermoUncertainty}, Vector{Float64}}, Int64, Float64, Float64, Integer, Vector{Int64}}(IdealSurface{Tuple{Arrheniusvec{Vector{Float64}, Vector{Float64}, Vector{Float64}}}, SparseArrays.SparseMatrixCSC{Float64, Int64}, Vector{Float64}, ReactionMechanismSimulator.NASAvec{EmptyThermoUncertainty}, Vector{Float64}}\n",
       "  name: String \"surface\"\n",
       "  species: Array{Species}((83,))\n",
       "  reactions: Array{ElementaryReaction}((1336,))\n",
       "  stoichmatrix: SparseArrays.SparseMatrixCSC{Float64, Int64}\n",
       "  Nrp: Array{Float64}((1336,)) [0.0, 0.0, 0.0, 0.0, 0.0, 0.0, 0.0, 0.0, 0.0, 0.0  …  0.0, 0.0, 0.0, 0.0, 0.0, 0.0, 0.0, 0.0, 0.0, 0.0]\n",
       "  rxnarray: Array{Int64}((8, 1336)) [6 3 … 69 69; 5 0 … 55 64; … ; 0 0 … 0 0; 0 0 … 0 0]\n",
       "  veckinetics: Tuple{Arrheniusvec{Vector{Float64}, Vector{Float64}, Vector{Float64}}}\n",
       "  veckineticsinds: Array{Int64}((1,)) [1336]\n",
       "  vecthermo: ReactionMechanismSimulator.NASAvec{EmptyThermoUncertainty}\n",
       "  otherreactions: Array{ElementaryReaction}((0,))\n",
       "  electronchange: Array{Float64}((1336,)) [0.0, 0.0, 0.0, 0.0, 0.0, 0.0, 0.0, 0.0, 0.0, 0.0  …  0.0, 0.0, 0.0, 0.0, 0.0, 0.0, 0.0, 0.0, 0.0, 0.0]\n",
       "  spcdict: Dict{String, Int64}\n",
       "  reversibility: Array{Bool}((1336,)) Bool[1, 1, 1, 1, 1, 1, 1, 1, 1, 1  …  1, 1, 1, 1, 1, 1, 1, 1, 1, 1]\n",
       "  forwardability: Array{Bool}((1336,)) Bool[1, 1, 1, 1, 1, 1, 1, 1, 1, 1  …  1, 1, 1, 1, 1, 1, 1, 1, 1, 1]\n",
       "  sitedensity: Float64 2.292e-5\n",
       "  diffusionlimited: Bool false\n",
       ", [1, 83], [1, 1419], Int64[], 300.0, 100000.0, -1.5, 0.0, [0.0012344778691559958, 72.36206903962457, 1.961996133737021e-23, 4.18e17, 1.1335512974672307e13, 1.1335512974672307e13, 2.0225157751675844e6, 1.2739736622533773e10, 2273.061514562808, 1.1335512974672307e13  …  8.08112489693316e10, 0.3054929294315439, 7.643523974005018e12, 440260.94799611624, 8.729170839356667e12, 5.990449419447052e-7, 1.6614779442910064, 548.9315527375531, 0.15007217204930323, 99.16394100660199], [1.1578971772464359e-42, 3.3844793351785867e-10, 4.488255826006328e-5, 3.9065746733027545e-19, 2.265062218802339e-12, 2.265062218802339e-12, 8.640721046752105e-8, 7.227921773460795e-11, 2.7572953746605555e-6, 2.265062218802339e-12  …  6.5915881188097205e-9, 0.0009486159926687432, 6.563500257170949e-9, 3.6557945358335456e-6, 2.350234279115264e-9, 0.014114393854326416, 0.00027614649986315484, 4.1655888624413194e-7, 0.0026295750777052197, 7.933273579111342e-6], Integer[], [7326.115605426582, -461297.45278808154, -381603.3503100982, -446672.8707394105, -132459.30209766183, -97371.0984105769, -508829.8598102333, -171466.2420577438, -208047.9431337436, -157716.7687839744  …  -290316.72957826045, -384763.2498044737, -98883.62436503614, -142996.24262657668, -515627.0568228372, -316414.66892923246, -199301.41080409128, 63378.9456308452, 116000.7977605538, -198707.0817738284], [6 3 … 69 69; 5 0 … 55 64; … ; 0 0 … 0 0; 0 0 … 0 0], 0.0, Float64[], [0.0 0.0 … 0.0 0.0; 0.0 0.0 … 0.0 0.0; … ; 0.0 0.0 … 0.0 0.0; 0.0 0.0 … 0.0 0.0], false, false, Bool[0], [0.0], [7326.115605426582, -461297.45278808154, -381603.3503100982, -446672.8707394105, -132459.30209766183, -97371.0984105769, -508829.8598102333, -171466.2420577438, -208047.9431337436, -157716.7687839744  …  8.08112489693316e10, 0.3054929294315439, 7.643523974005018e12, 440260.94799611624, 8.729170839356667e12, 5.990449419447052e-7, 1.6614779442910064, 548.9315527375531, 0.15007217204930323, 99.16394100660199], Dict{String, Int64}())"
      ]
     },
     "metadata": {},
     "output_type": "display_data"
    }
   ],
   "source": [
    "domaincat"
   ]
  },
  {
   "cell_type": "code",
   "execution_count": 11,
   "id": "616e33e4",
   "metadata": {},
   "outputs": [
    {
     "data": {
      "text/plain": [
       "ConstantTVDomain{IdealDiluteSolution{Tuple{Arrheniusvec{Vector{Float64}, Vector{Float64}, Vector{Float64}}}, SparseArrays.SparseMatrixCSC{Float64, Int64}, Vector{Float64}}, Int64, Float64, Float64, Integer, Vector{Int64}}(IdealDiluteSolution{Tuple{Arrheniusvec{Vector{Float64}, Vector{Float64}, Vector{Float64}}}, SparseArrays.SparseMatrixCSC{Float64, Int64}, Vector{Float64}}\n",
       "  name: String \"liquid\"\n",
       "  species: Array{Species}((48,))\n",
       "  reactions: Array{ElementaryReaction}((8,))\n",
       "  solvent: Solvent\n",
       "  stoichmatrix: SparseArrays.SparseMatrixCSC{Float64, Int64}\n",
       "  Nrp: Array{Float64}((8,)) [0.0, 0.0, 0.0, 0.0, 0.0, 0.0, 0.0, 0.0]\n",
       "  rxnarray: Array{Int64}((8, 8)) [29 29 … 7 7; 30 31 … 30 31; … ; 0 0 … 0 0; 0 0 … 0 0]\n",
       "  veckinetics: Tuple{Arrheniusvec{Vector{Float64}, Vector{Float64}, Vector{Float64}}}\n",
       "  veckineticsinds: Array{Int64}((1,)) [8]\n",
       "  vecthermo: ReactionMechanismSimulator.NASAvec{EmptyThermoUncertainty}\n",
       "  otherreactions: Array{ElementaryReaction}((0,))\n",
       "  electronchange: Array{Float64}((8,)) [0.0, 0.0, 0.0, 0.0, 0.0, 0.0, 0.0, 0.0]\n",
       "  spcdict: Dict{String, Int64}\n",
       "  reversibility: Array{Bool}((8,)) Bool[1, 1, 1, 1, 1, 1, 1, 1]\n",
       "  forwardability: Array{Bool}((8,)) Bool[1, 1, 1, 1, 1, 1, 1, 1]\n",
       "  diffusionlimited: Bool true\n",
       ", [1, 48], [1, 56], [6, 5], 300.0, 1.0, 0.0, 0.0, [7.990621761684466e6, 7.486079195303397e6, 8.30171982998078e6, 7.945759617446088e6, 8.30171982998078e6, 7.653861670370603e6, 8.365589466005936e6, 8.270053435737545e6], [2.5023107686109887e-105, 4.754692781536195e-60, 2.505663492663388e-132, 1.0469602315707045e-111, 1.1613793479869216e-83, 4.674409174729268e-63, 9.12325565349361e-115, 1.8292328199374935e-69], [5.536169735269627e9, 1.1607394475819182e8, 5.536169735269627e9, 5.536169735269627e9, 5.536169735269627e9, 2.0078948710112455e8, 5.536169735269627e9, 6.403973080115937e8], Integer[], [-40043.12658365005, -32840.77588912653, -38671.70084039843, -51458.45101464286, -457938.9436220495, -12274.741585447913, 186629.03260505642, -188530.1471609758, -483402.40421597613, -325852.72817405284  …  14148.627922088619, -399383.65022681485, -386523.0393804797, -545617.3555794064, -373209.14349576214, -520888.07997402037, -489743.540665684, -255443.6921660577, -337939.9708311493, -380464.7988806748], [29 29 … 7 7; 30 31 … 30 31; … ; 0 0 … 0 0; 0 0 … 0 0], 0.0008764544014047555, [1.2791698254820209e-9, 1.8057956542205799e-9, 1.6715781069123858e-9, 1.2139156476242518e-9, 1.122671285175347e-9, 1.6586845884779859e-9, 1.6586845884779859e-9, 1.14440221020022e-9, 1.0706139020926982e-9, 1.3343544679270026e-9  …  1.2950488917250014e-9, 9.491783447442542e-10, 8.905894704051347e-10, 9.491783447442542e-10, 8.905894704051347e-10, 8.689951179730577e-10, 8.689951179730577e-10, 8.905894704051347e-10, 8.905894704051347e-10, 8.905894704051347e-10], [0.0 0.0 … 0.0 0.0; 0.0 0.0 … 0.0 0.0; … ; 0.0 0.0 … 0.0 0.0; 0.0 0.0 … 0.0 0.0], false, false, Bool[0], [0.0], [-40043.12658365005, -32840.77588912653, -38671.70084039843, -51458.45101464286, -457938.9436220495, -12274.741585447913, 186629.03260505642, -188530.1471609758, -483402.40421597613, -325852.72817405284  …  -337939.9708311493, -380464.7988806748, 5.536169735269627e9, 1.1607394475819182e8, 5.536169735269627e9, 5.536169735269627e9, 5.536169735269627e9, 2.0078948710112455e8, 5.536169735269627e9, 6.403973080115937e8], Dict{String, Int64}())"
      ]
     },
     "metadata": {},
     "output_type": "display_data"
    }
   ],
   "source": [
    "domainliq"
   ]
  },
  {
   "cell_type": "code",
   "execution_count": 12,
   "id": "ed49d2b4",
   "metadata": {},
   "outputs": [
    {
     "ename": "MethodError",
     "evalue": "MethodError: no method matching ReactiveInternalInterfaceConstantTPhi(::ConstantTVDomain{IdealDiluteSolution{Tuple{Arrheniusvec{Vector{Float64}, Vector{Float64}, Vector{Float64}}}, SparseArrays.SparseMatrixCSC{Float64, Int64}, Vector{Float64}}, Int64, Float64, Float64, Integer, Vector{Int64}}, ::ConstantTAPhiDomain{IdealSurface{Tuple{Arrheniusvec{Vector{Float64}, Vector{Float64}, Vector{Float64}}}, SparseArrays.SparseMatrixCSC{Float64, Int64}, Vector{Float64}, ReactionMechanismSimulator.NASAvec{EmptyThermoUncertainty}, Vector{Float64}}, Int64, Float64, Float64, Integer, Vector{Int64}}, ::Vector{ElementaryReaction{T, Int64, V1, V2, V3, V4, Vector{Vector{String}}, Vector{Any}, Vector{Any}, Vector{Any}, Vector{Any}} where {T<:AbstractRate, V1<:AbstractArray, V2<:AbstractArray, V3<:AbstractArray, V4<:AbstractArray}}, ::Matrix{Int64}, ::SparseArrays.SparseMatrixCSC{Float64, Int64}, ::Vector{Float64}, ::Vector{Float64}, ::Vector{Float64}, ::Vector{Float64}, ::Int64, ::Float64, ::Vector{Int64}, ::Vector{Int64}, ::Vector{Float64}, ::Vector{Bool}, ::Vector{Bool})\n\nClosest candidates are:\n  ReactiveInternalInterfaceConstantTPhi(::J, ::N, ::Vector{Q}, ::B, ::C, ::C2, ::C2, ::B2, ::B3, !Matched::Float64, ::Float64, ::Vector{Int64}, ::Vector{Int64}, ::Vector{Float64}, ::Vector{Bool}, ::Vector{Bool}) where {J, N, B, B2, B3, C, C2, Q<:AbstractReaction}\n   @ ReactionMechanismSimulator ~/RMG-Electrocat/ReactionMechanismSimulator.jl/src/Interface.jl:74\n  ReactiveInternalInterfaceConstantTPhi(::Any, ::Any, ::Any, ::Any, ::Any, ::Any)\n   @ ReactionMechanismSimulator ~/RMG-Electrocat/ReactionMechanismSimulator.jl/src/Interface.jl:91\n  ReactiveInternalInterfaceConstantTPhi(::Any, ::Any, ::Any, ::Any, ::Any)\n   @ ReactionMechanismSimulator ~/RMG-Electrocat/ReactionMechanismSimulator.jl/src/Interface.jl:91\n",
     "output_type": "error",
     "traceback": [
      "MethodError: no method matching ReactiveInternalInterfaceConstantTPhi(::ConstantTVDomain{IdealDiluteSolution{Tuple{Arrheniusvec{Vector{Float64}, Vector{Float64}, Vector{Float64}}}, SparseArrays.SparseMatrixCSC{Float64, Int64}, Vector{Float64}}, Int64, Float64, Float64, Integer, Vector{Int64}}, ::ConstantTAPhiDomain{IdealSurface{Tuple{Arrheniusvec{Vector{Float64}, Vector{Float64}, Vector{Float64}}}, SparseArrays.SparseMatrixCSC{Float64, Int64}, Vector{Float64}, ReactionMechanismSimulator.NASAvec{EmptyThermoUncertainty}, Vector{Float64}}, Int64, Float64, Float64, Integer, Vector{Int64}}, ::Vector{ElementaryReaction{T, Int64, V1, V2, V3, V4, Vector{Vector{String}}, Vector{Any}, Vector{Any}, Vector{Any}, Vector{Any}} where {T<:AbstractRate, V1<:AbstractArray, V2<:AbstractArray, V3<:AbstractArray, V4<:AbstractArray}}, ::Matrix{Int64}, ::SparseArrays.SparseMatrixCSC{Float64, Int64}, ::Vector{Float64}, ::Vector{Float64}, ::Vector{Float64}, ::Vector{Float64}, ::Int64, ::Float64, ::Vector{Int64}, ::Vector{Int64}, ::Vector{Float64}, ::Vector{Bool}, ::Vector{Bool})\n",
      "\n",
      "Closest candidates are:\n",
      "  ReactiveInternalInterfaceConstantTPhi(::J, ::N, ::Vector{Q}, ::B, ::C, ::C2, ::C2, ::B2, ::B3, !Matched::Float64, ::Float64, ::Vector{Int64}, ::Vector{Int64}, ::Vector{Float64}, ::Vector{Bool}, ::Vector{Bool}) where {J, N, B, B2, B3, C, C2, Q<:AbstractReaction}\n",
      "   @ ReactionMechanismSimulator ~/RMG-Electrocat/ReactionMechanismSimulator.jl/src/Interface.jl:74\n",
      "  ReactiveInternalInterfaceConstantTPhi(::Any, ::Any, ::Any, ::Any, ::Any, ::Any)\n",
      "   @ ReactionMechanismSimulator ~/RMG-Electrocat/ReactionMechanismSimulator.jl/src/Interface.jl:91\n",
      "  ReactiveInternalInterfaceConstantTPhi(::Any, ::Any, ::Any, ::Any, ::Any)\n",
      "   @ ReactionMechanismSimulator ~/RMG-Electrocat/ReactionMechanismSimulator.jl/src/Interface.jl:91\n",
      "\n",
      "\n",
      "Stacktrace:\n",
      " [1] ReactiveInternalInterfaceConstantTPhi(domain1::ConstantTVDomain{IdealDiluteSolution{Tuple{Arrheniusvec{Vector{Float64}, Vector{Float64}, Vector{Float64}}}, SparseArrays.SparseMatrixCSC{Float64, Int64}, Vector{Float64}}, Int64, Float64, Float64, Integer, Vector{Int64}}, domain2::ConstantTAPhiDomain{IdealSurface{Tuple{Arrheniusvec{Vector{Float64}, Vector{Float64}, Vector{Float64}}}, SparseArrays.SparseMatrixCSC{Float64, Int64}, Vector{Float64}, ReactionMechanismSimulator.NASAvec{EmptyThermoUncertainty}, Vector{Float64}}, Int64, Float64, Float64, Integer, Vector{Int64}}, reactions::Vector{ElementaryReaction}, T::Int64, A::Float64, phi::Float64)\n",
      "   @ ReactionMechanismSimulator ~/RMG-Electrocat/ReactionMechanismSimulator.jl/src/Interface.jl:117\n",
      " [2] ReactiveInternalInterfaceConstantTPhi(domain1::ConstantTVDomain{IdealDiluteSolution{Tuple{Arrheniusvec{Vector{Float64}, Vector{Float64}, Vector{Float64}}}, SparseArrays.SparseMatrixCSC{Float64, Int64}, Vector{Float64}}, Int64, Float64, Float64, Integer, Vector{Int64}}, domain2::ConstantTAPhiDomain{IdealSurface{Tuple{Arrheniusvec{Vector{Float64}, Vector{Float64}, Vector{Float64}}}, SparseArrays.SparseMatrixCSC{Float64, Int64}, Vector{Float64}, ReactionMechanismSimulator.NASAvec{EmptyThermoUncertainty}, Vector{Float64}}, Int64, Float64, Float64, Integer, Vector{Int64}}, reactions::Vector{ElementaryReaction}, T::Int64, A::Float64)\n",
      "   @ ReactionMechanismSimulator ~/RMG-Electrocat/ReactionMechanismSimulator.jl/src/Interface.jl:92\n",
      " [3] top-level scope\n",
      "   @ ~/Work/CO2_RR_RMG/CO2_Reduction_Ag/jl_notebook_cell_df34fa98e69747e1a8f8a730347b8e2f_X14sdnNjb2RlLXJlbW90ZQ==.jl:1"
     ]
    }
   ],
   "source": [
    "inter,pinter = ReactiveInternalInterfaceConstantTPhi(domainliq,\n",
    "  domaincat,interfacerxns,300,AVratio*1.0);"
   ]
  },
  {
   "cell_type": "code",
   "execution_count": null,
   "id": "244f0912",
   "metadata": {},
   "outputs": [],
   "source": [
    "@time react,y0,p = Reactor((domainliq,domaincat), (y0liq,y0cat), (0.0, 1.0e1), [inter], (pliq,pcat,pinter));\n"
   ]
  },
  {
   "cell_type": "code",
   "execution_count": null,
   "id": "962f838c",
   "metadata": {},
   "outputs": [],
   "source": [
    "@time sol = solve(react.ode,DifferentialEquations.CVODE_BDF(),abstol=1e-16,reltol=1e-6);"
   ]
  },
  {
   "cell_type": "code",
   "execution_count": null,
   "id": "4714593e",
   "metadata": {},
   "outputs": [],
   "source": [
    "sol.retcode"
   ]
  },
  {
   "cell_type": "code",
   "execution_count": 21,
   "id": "6667bb5a",
   "metadata": {},
   "outputs": [],
   "source": [
    "ssys = SystemSimulation(sol,(domainliq,domaincat,),(inter,),p);"
   ]
  },
  {
   "cell_type": "code",
   "execution_count": null,
   "id": "ad659d76",
   "metadata": {},
   "outputs": [],
   "source": [
    "sol.t"
   ]
  },
  {
   "cell_type": "code",
   "execution_count": null,
   "id": "39632165",
   "metadata": {},
   "outputs": [],
   "source": [
    "ssys.reactions[16]"
   ]
  },
  {
   "cell_type": "code",
   "execution_count": null,
   "id": "87dcaf99",
   "metadata": {},
   "outputs": [],
   "source": [
    "#Plot surface fractions\n",
    "plotmolefractions(ssys.sims[2];tol=1e-9)\n",
    "xlim(0.0,1)\n",
    "gcf()"
   ]
  },
  {
   "cell_type": "code",
   "execution_count": null,
   "id": "e719a85d",
   "metadata": {},
   "outputs": [],
   "source": [
    "Dict([ssys.sims[2].names[i]=>molefractions(ssys.sims[2],1.0)[i] for i in 1:length(ssys.sims[2].names)])"
   ]
  },
  {
   "cell_type": "code",
   "execution_count": null,
   "id": "1f7d8918",
   "metadata": {},
   "outputs": [],
   "source": [
    "getfluxdiagram(ssys,1;speciesratetolerance=0.4)"
   ]
  },
  {
   "cell_type": "code",
   "execution_count": null,
   "id": "36206466",
   "metadata": {},
   "outputs": [],
   "source": [
    "println(ssys.names)"
   ]
  },
  {
   "cell_type": "code",
   "execution_count": null,
   "id": "64238bc0",
   "metadata": {},
   "outputs": [],
   "source": [
    "plotrops(ssys,\"CH2O2X\",1;N=15,tol=0.0)"
   ]
  },
  {
   "cell_type": "code",
   "execution_count": null,
   "id": "e8bb3c43",
   "metadata": {},
   "outputs": [],
   "source": [
    "plotrops(ssys,\"CHO2X\",1;N=10,tol=0.0)"
   ]
  },
  {
   "cell_type": "code",
   "execution_count": null,
   "id": "0bb84a7f",
   "metadata": {},
   "outputs": [],
   "source": [
    "plotrops(ssys,\"CO2HX\",1;N=10,tol=0.0)"
   ]
  },
  {
   "cell_type": "code",
   "execution_count": null,
   "id": "1044d2b9",
   "metadata": {},
   "outputs": [],
   "source": [
    "plotrops(ssys,\"OX\",1;N=10,tol=0.0)\n",
    "gcf()"
   ]
  },
  {
   "cell_type": "code",
   "execution_count": null,
   "id": "7086e403",
   "metadata": {},
   "outputs": [],
   "source": [
    "plotrops(ssys,\"OCX\",1.0e-6)\n",
    "gcf()"
   ]
  },
  {
   "cell_type": "code",
   "execution_count": null,
   "id": "44de0eb2",
   "metadata": {
    "scrolled": true
   },
   "outputs": [],
   "source": [
    "for (i,rxn) in enumerate(inter.reactions)\n",
    "    str = getrxnstr(rxn)\n",
    "    kf = inter.kfs[i]\n",
    "    krev = inter.krevs[i]\n",
    "    Kc = kf/krev\n",
    "    println(str)\n",
    "    println(\"kf = $kf\")\n",
    "    println(\"krev = $krev\")\n",
    "    println(\"Kc = $Kc\")\n",
    "end"
   ]
  },
  {
   "cell_type": "code",
   "execution_count": null,
   "id": "dd1b08a5",
   "metadata": {},
   "outputs": [],
   "source": [
    "for (i,rxn) in enumerate(inter.reactions)\n",
    "    str = getrxnstr(rxn)\n",
    "    kf = inter.kfs[i]\n",
    "    krev = inter.krevs[i]\n",
    "    Kc = kf/krev\n",
    "    println(str)\n",
    "    println(\"kf = $kf\")\n",
    "    println(\"krev = $krev\")\n",
    "    println(\"Kc = $Kc\")\n",
    "end"
   ]
  },
  {
   "cell_type": "code",
   "execution_count": null,
   "id": "11333da0",
   "metadata": {},
   "outputs": [],
   "source": []
  },
  {
   "cell_type": "code",
   "execution_count": null,
   "id": "ef575a57",
   "metadata": {},
   "outputs": [],
   "source": []
  }
 ],
 "metadata": {
  "@webio": {
   "lastCommId": null,
   "lastKernelId": null
  },
  "kernelspec": {
   "display_name": "Julia 1.9.1",
   "language": "julia",
   "name": "julia-1.9"
  },
  "language_info": {
   "file_extension": ".jl",
   "mimetype": "application/julia",
   "name": "julia",
   "version": "1.9.1"
  }
 },
 "nbformat": 4,
 "nbformat_minor": 5
}
