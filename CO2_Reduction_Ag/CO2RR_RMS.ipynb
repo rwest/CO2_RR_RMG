{
 "cells": [
  {
   "cell_type": "code",
   "execution_count": 1,
   "id": "8a590634",
   "metadata": {},
   "outputs": [],
   "source": [
    "using DifferentialEquations\n",
    "using ReactionMechanismSimulator\n",
    "using PyPlot"
   ]
  },
  {
   "cell_type": "code",
   "execution_count": null,
   "id": "e941d4fb",
   "metadata": {},
   "outputs": [],
   "source": [
    "outdict = readinput(\"chem43.rms\")\n"
   ]
  },
  {
   "cell_type": "code",
   "execution_count": 3,
   "id": "fe2767e9",
   "metadata": {},
   "outputs": [],
   "source": [
    "liqspcs = outdict[\"gas\"][\"Species\"]\n",
    "liqrxns = outdict[\"gas\"][\"Reactions\"]\n",
    "surfspcs = outdict[\"surface\"][\"Species\"]\n",
    "surfrxns = outdict[\"surface\"][\"Reactions\"]\n",
    "interfacerxns = outdict[Set([\"surface\", \"gas\"])][\"Reactions\"]\n",
    "solv = outdict[\"Solvents\"][1];"
   ]
  },
  {
   "cell_type": "code",
   "execution_count": 4,
   "id": "c54ee65e",
   "metadata": {},
   "outputs": [],
   "source": [
    "liq = IdealDiluteSolution(liqspcs,liqrxns,solv,name=\"liquid\",diffusionlimited=true);\n",
    "surf = IdealSurface(surfspcs,surfrxns,3.121e-05,name=\"surface\");"
   ]
  },
  {
   "cell_type": "code",
   "execution_count": 19,
   "id": "8894c84d",
   "metadata": {},
   "outputs": [],
   "source": [
    "initialcondsliq = Dict([\"proton\"=>10.0^-4,\n",
    "        \"V\"=>1.0,\"T\"=>298.15,\"Phi\"=>0.0,\"d\"=>0.0]);\n",
    "AVratio = 1.0e5\n",
    "initialcondssurf = Dict([\"CO2X\"=>0.1*3.121e-05*AVratio,\n",
    "        \"CHO2X\"=>0.2*3.121e-05*AVratio,\n",
    "        \"CO2HX\"=>0.2*3.121e-05*AVratio,\n",
    "        \"OX\"=>0.1*3.121e-05*AVratio,\n",
    "        \"OCX\"=>0.1*3.121e-05*AVratio,\n",
    "        \"vacantX\"=>0.2*3.121e-05*AVratio,\n",
    "        \"CH2O2X\"=>0.05*3.121e-05*AVratio,\n",
    "        \"CHO2X\"=>0.04*3.121e-05*AVratio,\n",
    "        \"CH2OX\"=>0.01*3.121e-05*AVratio,\n",
    "        \"A\"=>1.0*AVratio,\"T\"=>298.15,\"Phi\"=>1.2]);"
   ]
  },
  {
   "cell_type": "code",
   "execution_count": 20,
   "id": "ddb39b3d",
   "metadata": {
    "scrolled": false
   },
   "outputs": [],
   "source": [
    "domainliq,y0liq,pliq = ConstantTVDomain(phase=liq,\n",
    "    initialconds=initialcondsliq,constantspecies=[\"proton\"]);\n",
    "domaincat,y0cat,pcat = ConstantTAPhiDomain(phase=surf,\n",
    "    initialconds=initialcondssurf);"
   ]
  },
  {
   "cell_type": "code",
   "execution_count": 21,
   "id": "ed49d2b4",
   "metadata": {},
   "outputs": [],
   "source": [
    "inter,pinter = ReactiveInternalInterfaceConstantTPhi(domainliq,\n",
    "  domaincat,interfacerxns,298.15,AVratio*1.0);"
   ]
  },
  {
   "cell_type": "code",
   "execution_count": 22,
   "id": "244f0912",
   "metadata": {},
   "outputs": [],
   "source": [
    "react,y0,p = Reactor((domainliq,domaincat), (y0liq,y0cat), (0.0, 1.0), [inter], (pliq,pcat,pinter));\n"
   ]
  },
  {
   "cell_type": "code",
   "execution_count": null,
   "id": "962f838c",
   "metadata": {},
   "outputs": [],
   "source": [
    "@time sol = solve(react.ode,DifferentialEquations.CVODE_BDF(),abstol=1e-16,reltol=1e-6);"
   ]
  },
  {
   "cell_type": "code",
   "execution_count": null,
   "id": "4714593e",
   "metadata": {},
   "outputs": [],
   "source": [
    "sol.retcode"
   ]
  },
  {
   "cell_type": "code",
   "execution_count": 11,
   "id": "6667bb5a",
   "metadata": {},
   "outputs": [],
   "source": [
    "ssys = SystemSimulation(sol,(domainliq,domaincat,),(inter,),p);"
   ]
  },
  {
   "cell_type": "code",
   "execution_count": null,
   "id": "ad659d76",
   "metadata": {},
   "outputs": [],
   "source": [
    "rops(ssys,\"CH2O2X\",1)"
   ]
  },
  {
   "cell_type": "code",
   "execution_count": null,
   "id": "39632165",
   "metadata": {},
   "outputs": [],
   "source": [
    "ssys.reactions[16]"
   ]
  },
  {
   "cell_type": "code",
   "execution_count": null,
   "id": "87dcaf99",
   "metadata": {},
   "outputs": [],
   "source": [
    "#Plot surface fractions\n",
    "plotmolefractions(ssys.sims[2];tol=1e-9)\n",
    "xlim(0.0,1)\n",
    "gcf()"
   ]
  },
  {
   "cell_type": "code",
   "execution_count": null,
   "id": "e719a85d",
   "metadata": {},
   "outputs": [],
   "source": [
    "Dict([ssys.sims[2].names[i]=>molefractions(ssys.sims[2],1.0)[i] for i in 1:length(ssys.sims[2].names)])"
   ]
  },
  {
   "cell_type": "code",
   "execution_count": null,
   "id": "1f7d8918",
   "metadata": {},
   "outputs": [],
   "source": [
    "getfluxdiagram(ssys,1;speciesratetolerance=0.4)"
   ]
  },
  {
   "cell_type": "code",
   "execution_count": null,
   "id": "36206466",
   "metadata": {},
   "outputs": [],
   "source": [
    "println(ssys.names)"
   ]
  },
  {
   "cell_type": "code",
   "execution_count": null,
   "id": "64238bc0",
   "metadata": {},
   "outputs": [],
   "source": [
    "plotrops(ssys,\"CH2O2X\",1;N=15,tol=0.0)"
   ]
  },
  {
   "cell_type": "code",
   "execution_count": null,
   "id": "e8bb3c43",
   "metadata": {},
   "outputs": [],
   "source": [
    "plotrops(ssys,\"CHO2X\",1;N=10,tol=0.0)"
   ]
  },
  {
   "cell_type": "code",
   "execution_count": null,
   "id": "0bb84a7f",
   "metadata": {},
   "outputs": [],
   "source": [
    "plotrops(ssys,\"CO2HX\",1;N=10,tol=0.0)"
   ]
  },
  {
   "cell_type": "code",
   "execution_count": null,
   "id": "1044d2b9",
   "metadata": {},
   "outputs": [],
   "source": [
    "plotrops(ssys,\"OX\",1;N=10,tol=0.0)\n",
    "gcf()"
   ]
  },
  {
   "cell_type": "code",
   "execution_count": null,
   "id": "7086e403",
   "metadata": {},
   "outputs": [],
   "source": [
    "plotrops(ssys,\"OCX\",1.0e-6)\n",
    "gcf()"
   ]
  },
  {
   "cell_type": "code",
   "execution_count": null,
   "id": "44de0eb2",
   "metadata": {
    "scrolled": true
   },
   "outputs": [],
   "source": [
    "for (i,rxn) in enumerate(inter.reactions)\n",
    "    str = getrxnstr(rxn)\n",
    "    kf = inter.kfs[i]\n",
    "    krev = inter.krevs[i]\n",
    "    Kc = kf/krev\n",
    "    println(str)\n",
    "    println(\"kf = $kf\")\n",
    "    println(\"krev = $krev\")\n",
    "    println(\"Kc = $Kc\")\n",
    "end"
   ]
  },
  {
   "cell_type": "code",
   "execution_count": null,
   "id": "dd1b08a5",
   "metadata": {},
   "outputs": [],
   "source": [
    "for (i,rxn) in enumerate(inter.reactions)\n",
    "    str = getrxnstr(rxn)\n",
    "    kf = inter.kfs[i]\n",
    "    krev = inter.krevs[i]\n",
    "    Kc = kf/krev\n",
    "    println(str)\n",
    "    println(\"kf = $kf\")\n",
    "    println(\"krev = $krev\")\n",
    "    println(\"Kc = $Kc\")\n",
    "end"
   ]
  },
  {
   "cell_type": "code",
   "execution_count": null,
   "id": "11333da0",
   "metadata": {},
   "outputs": [],
   "source": []
  },
  {
   "cell_type": "code",
   "execution_count": null,
   "id": "ef575a57",
   "metadata": {},
   "outputs": [],
   "source": []
  }
 ],
 "metadata": {
  "@webio": {
   "lastCommId": null,
   "lastKernelId": null
  },
  "kernelspec": {
   "display_name": "Julia 1.9.1",
   "language": "julia",
   "name": "julia-1.9"
  },
  "language_info": {
   "file_extension": ".jl",
   "mimetype": "application/julia",
   "name": "julia",
   "version": "1.9.1"
  }
 },
 "nbformat": 4,
 "nbformat_minor": 5
}
