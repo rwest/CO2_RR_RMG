{
 "cells": [
  {
   "cell_type": "code",
   "execution_count": 1,
   "id": "8a590634",
   "metadata": {},
   "outputs": [],
   "source": [
    "using DifferentialEquations\n",
    "using ReactionMechanismSimulator\n",
    "using PyPlot"
   ]
  },
  {
   "cell_type": "code",
   "execution_count": 2,
   "id": "e941d4fb",
   "metadata": {},
   "outputs": [
    {
     "name": "stderr",
     "output_type": "stream",
     "text": [
      "[10:38:45] WARNING: not removing hydrogen atom without neighbors\n",
      "[10:38:45] WARNING: not removing hydrogen atom without neighbors\n",
      "┌ Warning: failed to generate StokesDiffusivity model for species vacantX\n",
      "└ @ ReactionMechanismSimulator /home/ssun30/RMG-electrocat/ReactionMechanismSimulator.jl/src/Parse.jl:352\n",
      "┌ Warning: failed to generate StokesDiffusivity model for species CO2X\n",
      "└ @ ReactionMechanismSimulator /home/ssun30/RMG-electrocat/ReactionMechanismSimulator.jl/src/Parse.jl:352\n",
      "┌ Warning: failed to generate StokesDiffusivity model for species CHO2X\n",
      "└ @ ReactionMechanismSimulator /home/ssun30/RMG-electrocat/ReactionMechanismSimulator.jl/src/Parse.jl:352\n",
      "┌ Warning: failed to generate StokesDiffusivity model for species CO2HX\n",
      "└ @ ReactionMechanismSimulator /home/ssun30/RMG-electrocat/ReactionMechanismSimulator.jl/src/Parse.jl:352\n",
      "┌ Warning: failed to generate StokesDiffusivity model for species OCX\n",
      "└ @ ReactionMechanismSimulator /home/ssun30/RMG-electrocat/ReactionMechanismSimulator.jl/src/Parse.jl:352\n",
      "┌ Warning: failed to generate StokesDiffusivity model for species OX\n",
      "└ @ ReactionMechanismSimulator /home/ssun30/RMG-electrocat/ReactionMechanismSimulator.jl/src/Parse.jl:352\n",
      "┌ Warning: failed to generate StokesDiffusivity model for species CH2O2X\n",
      "└ @ ReactionMechanismSimulator /home/ssun30/RMG-electrocat/ReactionMechanismSimulator.jl/src/Parse.jl:352\n",
      "┌ Warning: failed to generate StokesDiffusivity model for species CHOX\n",
      "└ @ ReactionMechanismSimulator /home/ssun30/RMG-electrocat/ReactionMechanismSimulator.jl/src/Parse.jl:352\n",
      "┌ Warning: failed to generate StokesDiffusivity model for species CH2OX\n",
      "└ @ ReactionMechanismSimulator /home/ssun30/RMG-electrocat/ReactionMechanismSimulator.jl/src/Parse.jl:352\n",
      "┌ Warning: failed to generate StokesDiffusivity model for species HOX\n",
      "└ @ ReactionMechanismSimulator /home/ssun30/RMG-electrocat/ReactionMechanismSimulator.jl/src/Parse.jl:352\n",
      "┌ Warning: failed to generate StokesDiffusivity model for species OC[Pt]\n",
      "└ @ ReactionMechanismSimulator /home/ssun30/RMG-electrocat/ReactionMechanismSimulator.jl/src/Parse.jl:352\n",
      "┌ Warning: failed to generate StokesDiffusivity model for species CO[Pt]\n",
      "└ @ ReactionMechanismSimulator /home/ssun30/RMG-electrocat/ReactionMechanismSimulator.jl/src/Parse.jl:352\n",
      "┌ Warning: failed to generate StokesDiffusivity model for species OC([Pt])O[Pt]\n",
      "└ @ ReactionMechanismSimulator /home/ssun30/RMG-electrocat/ReactionMechanismSimulator.jl/src/Parse.jl:352\n",
      "┌ Warning: failed to generate StokesDiffusivity model for species HX\n",
      "└ @ ReactionMechanismSimulator /home/ssun30/RMG-electrocat/ReactionMechanismSimulator.jl/src/Parse.jl:352\n",
      "┌ Warning: failed to generate StokesDiffusivity model for species OCO[Pt]\n",
      "└ @ ReactionMechanismSimulator /home/ssun30/RMG-electrocat/ReactionMechanismSimulator.jl/src/Parse.jl:352\n",
      "┌ Warning: failed to generate StokesDiffusivity model for species O=COC[Pt]\n",
      "└ @ ReactionMechanismSimulator /home/ssun30/RMG-electrocat/ReactionMechanismSimulator.jl/src/Parse.jl:352\n",
      "┌ Warning: failed to generate StokesDiffusivity model for species OC=[Pt]\n",
      "└ @ ReactionMechanismSimulator /home/ssun30/RMG-electrocat/ReactionMechanismSimulator.jl/src/Parse.jl:352\n",
      "┌ Warning: failed to generate StokesDiffusivity model for species OC(O)[Pt]\n",
      "└ @ ReactionMechanismSimulator /home/ssun30/RMG-electrocat/ReactionMechanismSimulator.jl/src/Parse.jl:352\n",
      "┌ Warning: failed to generate StokesDiffusivity model for species CO.[Pt]\n",
      "└ @ ReactionMechanismSimulator /home/ssun30/RMG-electrocat/ReactionMechanismSimulator.jl/src/Parse.jl:352\n",
      "┌ Warning: failed to generate StokesDiffusivity model for species O=CCO[Pt]\n",
      "└ @ ReactionMechanismSimulator /home/ssun30/RMG-electrocat/ReactionMechanismSimulator.jl/src/Parse.jl:352\n",
      "┌ Warning: failed to generate StokesDiffusivity model for species O=CC=O.[Pt]\n",
      "└ @ ReactionMechanismSimulator /home/ssun30/RMG-electrocat/ReactionMechanismSimulator.jl/src/Parse.jl:352\n",
      "┌ Warning: failed to generate StokesDiffusivity model for species OC#[Pt]\n",
      "└ @ ReactionMechanismSimulator /home/ssun30/RMG-electrocat/ReactionMechanismSimulator.jl/src/Parse.jl:352\n",
      "┌ Warning: failed to generate StokesDiffusivity model for species H2OX\n",
      "└ @ ReactionMechanismSimulator /home/ssun30/RMG-electrocat/ReactionMechanismSimulator.jl/src/Parse.jl:352\n",
      "┌ Warning: failed to generate StokesDiffusivity model for species COC(=O)[Pt]\n",
      "└ @ ReactionMechanismSimulator /home/ssun30/RMG-electrocat/ReactionMechanismSimulator.jl/src/Parse.jl:352\n",
      "┌ Warning: failed to generate StokesDiffusivity model for species OCCO.[Pt]\n",
      "└ @ ReactionMechanismSimulator /home/ssun30/RMG-electrocat/ReactionMechanismSimulator.jl/src/Parse.jl:352\n",
      "┌ Warning: failed to generate StokesDiffusivity model for species [Pt]CO[Pt]\n",
      "└ @ ReactionMechanismSimulator /home/ssun30/RMG-electrocat/ReactionMechanismSimulator.jl/src/Parse.jl:352\n"
     ]
    },
    {
     "data": {
      "text/plain": [
       "Dict{Any, Any} with 4 entries:\n",
       "  \"Solvents\"              => Solvent[Solvent(\"water\", RiedelViscosity{Float64}(…\n",
       "  Set([\"surface\", \"gas\"]) => Dict{Any, Any}(\"Reactions\"=>ElementaryReaction[vac…\n",
       "  \"gas\"                   => Dict{Any, Any}(\"Species\"=>Species[Species{NASA{Emp…\n",
       "  \"surface\"               => Dict{Any, Any}(\"Species\"=>Species[Species{NASA{Emp…"
      ]
     },
     "metadata": {},
     "output_type": "display_data"
    }
   ],
   "source": [
    "outdict = readinput(\"chem41.rms\")\n"
   ]
  },
  {
   "cell_type": "code",
   "execution_count": 3,
   "id": "fe2767e9",
   "metadata": {},
   "outputs": [],
   "source": [
    "liqspcs = outdict[\"gas\"][\"Species\"]\n",
    "liqrxns = outdict[\"gas\"][\"Reactions\"]\n",
    "surfspcs = outdict[\"surface\"][\"Species\"]\n",
    "surfrxns = outdict[\"surface\"][\"Reactions\"]\n",
    "interfacerxns = outdict[Set([\"surface\", \"gas\"])][\"Reactions\"]\n",
    "solv = outdict[\"Solvents\"][1];"
   ]
  },
  {
   "cell_type": "code",
   "execution_count": 4,
   "id": "c54ee65e",
   "metadata": {},
   "outputs": [],
   "source": [
    "liq = IdealDiluteSolution(liqspcs,liqrxns,solv,name=\"liquid\",diffusionlimited=true);\n",
    "surf = IdealSurface(surfspcs,surfrxns,3.121e-05,name=\"surface\");"
   ]
  },
  {
   "cell_type": "code",
   "execution_count": 19,
   "id": "8894c84d",
   "metadata": {},
   "outputs": [],
   "source": [
    "initialcondsliq = Dict([\"proton\"=>10.0^-4,\n",
    "        \"V\"=>1.0,\"T\"=>298.15,\"Phi\"=>0.0,\"d\"=>0.0]);\n",
    "AVratio = 1.0e5\n",
    "initialcondssurf = Dict([\"CO2X\"=>0.1*3.121e-05*AVratio,\n",
    "        \"CHO2X\"=>0.2*3.121e-05*AVratio,\n",
    "        \"CO2HX\"=>0.2*3.121e-05*AVratio,\n",
    "        \"OX\"=>0.1*3.121e-05*AVratio,\n",
    "        \"OCX\"=>0.1*3.121e-05*AVratio,\n",
    "        \"vacantX\"=>0.2*3.121e-05*AVratio,\n",
    "        \"CH2O2X\"=>0.05*3.121e-05*AVratio,\n",
    "        \"CHO2X\"=>0.04*3.121e-05*AVratio,\n",
    "        \"CH2OX\"=>0.01*3.121e-05*AVratio,\n",
    "        \"A\"=>1.0*AVratio,\"T\"=>298.15,\"Phi\"=>1.2]);"
   ]
  },
  {
   "cell_type": "code",
   "execution_count": 20,
   "id": "ddb39b3d",
   "metadata": {
    "scrolled": false
   },
   "outputs": [],
   "source": [
    "domainliq,y0liq,pliq = ConstantTVDomain(phase=liq,\n",
    "    initialconds=initialcondsliq,constantspecies=[\"proton\"]);\n",
    "domaincat,y0cat,pcat = ConstantTAPhiDomain(phase=surf,\n",
    "    initialconds=initialcondssurf);"
   ]
  },
  {
   "cell_type": "code",
   "execution_count": 21,
   "id": "ed49d2b4",
   "metadata": {},
   "outputs": [],
   "source": [
    "inter,pinter = ReactiveInternalInterfaceConstantTPhi(domainliq,\n",
    "  domaincat,interfacerxns,298.15,AVratio*1.0);"
   ]
  },
  {
   "cell_type": "code",
   "execution_count": 22,
   "id": "244f0912",
   "metadata": {},
   "outputs": [],
   "source": [
    "react,y0,p = Reactor((domainliq,domaincat), (y0liq,y0cat), (0.0, 1.0), [inter], (pliq,pcat,pinter));\n"
   ]
  },
  {
   "cell_type": "code",
   "execution_count": 23,
   "id": "962f838c",
   "metadata": {},
   "outputs": [
    {
     "name": "stdout",
     "output_type": "stream",
     "text": [
      "  0.000789 seconds (4.42 k allocations: 1.377 MiB)\n"
     ]
    },
    {
     "name": "stderr",
     "output_type": "stream",
     "text": [
      "\n",
      "[CVODES ERROR]  CVode\n",
      "  At t = 0 and h = 2.86481e-28, the error test failed repeatedly or with |h| = hmin.\n",
      "\n"
     ]
    }
   ],
   "source": [
    "@time sol = solve(react.ode,DifferentialEquations.CVODE_BDF(),abstol=1e-16,reltol=1e-6);"
   ]
  },
  {
   "cell_type": "code",
   "execution_count": 10,
   "id": "4714593e",
   "metadata": {},
   "outputs": [
    {
     "data": {
      "text/plain": [
       "ReturnCode.Success = 1"
      ]
     },
     "metadata": {},
     "output_type": "display_data"
    }
   ],
   "source": [
    "sol.retcode"
   ]
  },
  {
   "cell_type": "code",
   "execution_count": 11,
   "id": "6667bb5a",
   "metadata": {},
   "outputs": [],
   "source": [
    "ssys = SystemSimulation(sol,(domainliq,domaincat,),(inter,),p);"
   ]
  },
  {
   "cell_type": "code",
   "execution_count": 12,
   "id": "ad659d76",
   "metadata": {},
   "outputs": [
    {
     "data": {
      "text/plain": [
       "159-element SparseArrays.SparseVector{Float64, Int64} with 36 stored entries:\n",
       "  [5  ]  =  -2.48683e-25\n",
       "  [6  ]  =  -1.03955e-33\n",
       "  [7  ]  =  -1.31949e-35\n",
       "  [8  ]  =  -1.31949e-35\n",
       "  [9  ]  =  -1.44805e-31\n",
       "  [10 ]  =  -1.31949e-35\n",
       "  [11 ]  =  -1.31949e-35\n",
       "         ⋮\n",
       "  [81 ]  =  -3.44905e-44\n",
       "  [90 ]  =  -2.41449e-17\n",
       "  [91 ]  =  -2.17971e-19\n",
       "  [108]  =  2.51436e-17\n",
       "  [109]  =  3.88055e-16\n",
       "  [114]  =  -5.07695e-7\n",
       "  [133]  =  -1.35219e-7\n",
       "  [143]  =  -9.17703e-8"
      ]
     },
     "metadata": {},
     "output_type": "display_data"
    }
   ],
   "source": [
    "rops(ssys,\"CH2O2X\",1)"
   ]
  },
  {
   "cell_type": "code",
   "execution_count": 13,
   "id": "39632165",
   "metadata": {},
   "outputs": [
    {
     "data": {
      "text/plain": [
       "OX+CH2O2X<=>HOX+CHO2X"
      ]
     },
     "metadata": {},
     "output_type": "display_data"
    }
   ],
   "source": [
    "ssys.reactions[16]"
   ]
  },
  {
   "cell_type": "code",
   "execution_count": 14,
   "id": "87dcaf99",
   "metadata": {},
   "outputs": [
    {
     "data": {
      "image/png": "[encoded data removed]",
      "text/plain": [
       "Figure(PyObject <Figure size 640x480 with 1 Axes>)"
      ]
     },
     "metadata": {},
     "output_type": "display_data"
    }
   ],
   "source": [
    "#Plot surface fractions\n",
    "plotmolefractions(ssys.sims[2];tol=1e-9)\n",
    "xlim(0.0,1)\n",
    "gcf()"
   ]
  },
  {
   "cell_type": "code",
   "execution_count": 15,
   "id": "e719a85d",
   "metadata": {},
   "outputs": [
    {
     "data": {
      "text/plain": [
       "Dict{String, Float64} with 26 entries:\n",
       "  \"CO2HX\"         => 2.888e-24\n",
       "  \"CHOX\"          => 4.85582e-23\n",
       "  \"OCCO.[Pt]\"     => 0.00035095\n",
       "  \"CH2O2X\"        => 0.420147\n",
       "  \"CO2X\"          => 1.39788e-32\n",
       "  \"O=COC[Pt]\"     => -9.08715e-31\n",
       "  \"[Pt]CO[Pt]\"    => 1.78761e-38\n",
       "  \"OC(O)[Pt]\"     => 5.99319e-25\n",
       "  \"HX\"            => 8.70368e-13\n",
       "  \"OX\"            => 3.92411e-28\n",
       "  \"OCO[Pt]\"       => 1.03219e-20\n",
       "  \"H2OX\"          => 0.00590431\n",
       "  \"CO[Pt]\"        => 1.83333e-27\n",
       "  \"OC[Pt]\"        => 3.24539e-11\n",
       "  \"OC([Pt])O[Pt]\" => 1.93214e-9\n",
       "  \"CH2OX\"         => 1.07401e-15\n",
       "  \"CHO2X\"         => 1.31223e-24\n",
       "  \"HOX\"           => 1.2821e-26\n",
       "  \"O=CCO[Pt]\"     => 1.8182e-43\n",
       "  ⋮               => ⋮"
      ]
     },
     "metadata": {},
     "output_type": "display_data"
    }
   ],
   "source": [
    "Dict([ssys.sims[2].names[i]=>molefractions(ssys.sims[2],1.0)[i] for i in 1:length(ssys.sims[2].names)])"
   ]
  },
  {
   "cell_type": "code",
   "execution_count": 16,
   "id": "1f7d8918",
   "metadata": {},
   "outputs": [
    {
     "data": {
      "image/png": "[encoded data removed]",
      "text/plain": [
       "228×371 Array{RGBA{N0f8},2} with eltype ColorTypes.RGBA{FixedPointNumbers.N0f8}:\n",
       " RGBA{N0f8}(1.0,1.0,1.0,1.0)  …  RGBA{N0f8}(1.0,1.0,1.0,0.667)\n",
       " RGBA{N0f8}(1.0,1.0,1.0,1.0)     RGBA{N0f8}(1.0,1.0,1.0,0.667)\n",
       " RGBA{N0f8}(1.0,1.0,1.0,1.0)     RGBA{N0f8}(1.0,1.0,1.0,0.667)\n",
       " RGBA{N0f8}(1.0,1.0,1.0,1.0)     RGBA{N0f8}(1.0,1.0,1.0,0.667)\n",
       " RGBA{N0f8}(1.0,1.0,1.0,1.0)     RGBA{N0f8}(1.0,1.0,1.0,0.667)\n",
       " RGBA{N0f8}(1.0,1.0,1.0,1.0)  …  RGBA{N0f8}(1.0,1.0,1.0,0.667)\n",
       " RGBA{N0f8}(1.0,1.0,1.0,1.0)     RGBA{N0f8}(1.0,1.0,1.0,0.667)\n",
       " RGBA{N0f8}(1.0,1.0,1.0,1.0)     RGBA{N0f8}(1.0,1.0,1.0,0.667)\n",
       " RGBA{N0f8}(1.0,1.0,1.0,1.0)     RGBA{N0f8}(1.0,1.0,1.0,0.667)\n",
       " RGBA{N0f8}(1.0,1.0,1.0,1.0)     RGBA{N0f8}(1.0,1.0,1.0,0.667)\n",
       " ⋮                            ⋱  ⋮\n",
       " RGBA{N0f8}(1.0,1.0,1.0,1.0)     RGBA{N0f8}(1.0,1.0,1.0,0.667)\n",
       " RGBA{N0f8}(1.0,1.0,1.0,1.0)  …  RGBA{N0f8}(1.0,1.0,1.0,0.667)\n",
       " RGBA{N0f8}(1.0,1.0,1.0,1.0)     RGBA{N0f8}(1.0,1.0,1.0,0.667)\n",
       " RGBA{N0f8}(1.0,1.0,1.0,1.0)     RGBA{N0f8}(1.0,1.0,1.0,0.667)\n",
       " RGBA{N0f8}(1.0,1.0,1.0,1.0)     RGBA{N0f8}(1.0,1.0,1.0,0.667)\n",
       " RGBA{N0f8}(1.0,1.0,1.0,1.0)     RGBA{N0f8}(1.0,1.0,1.0,0.667)\n",
       " RGBA{N0f8}(1.0,1.0,1.0,1.0)  …  RGBA{N0f8}(1.0,1.0,1.0,0.667)\n",
       " RGBA{N0f8}(1.0,1.0,1.0,1.0)     RGBA{N0f8}(1.0,1.0,1.0,0.667)\n",
       " RGBA{N0f8}(1.0,1.0,1.0,1.0)     RGBA{N0f8}(1.0,1.0,1.0,0.667)"
      ]
     },
     "metadata": {},
     "output_type": "display_data"
    }
   ],
   "source": [
    "getfluxdiagram(ssys,1;speciesratetolerance=0.4)"
   ]
  },
  {
   "cell_type": "code",
   "execution_count": null,
   "id": "36206466",
   "metadata": {},
   "outputs": [],
   "source": [
    "println(ssys.names)"
   ]
  },
  {
   "cell_type": "code",
   "execution_count": null,
   "id": "64238bc0",
   "metadata": {},
   "outputs": [],
   "source": [
    "plotrops(ssys,\"CH2O2X\",1;N=15,tol=0.0)"
   ]
  },
  {
   "cell_type": "code",
   "execution_count": null,
   "id": "e8bb3c43",
   "metadata": {},
   "outputs": [],
   "source": [
    "plotrops(ssys,\"CHO2X\",1;N=10,tol=0.0)"
   ]
  },
  {
   "cell_type": "code",
   "execution_count": null,
   "id": "0bb84a7f",
   "metadata": {},
   "outputs": [],
   "source": [
    "plotrops(ssys,\"CO2HX\",1;N=10,tol=0.0)"
   ]
  },
  {
   "cell_type": "code",
   "execution_count": null,
   "id": "1044d2b9",
   "metadata": {},
   "outputs": [],
   "source": [
    "plotrops(ssys,\"OX\",1;N=10,tol=0.0)\n",
    "gcf()"
   ]
  },
  {
   "cell_type": "code",
   "execution_count": null,
   "id": "7086e403",
   "metadata": {},
   "outputs": [],
   "source": [
    "plotrops(ssys,\"OCX\",1.0e-6)\n",
    "gcf()"
   ]
  },
  {
   "cell_type": "code",
   "execution_count": 17,
   "id": "44de0eb2",
   "metadata": {
    "scrolled": true
   },
   "outputs": [
    {
     "name": "stdout",
     "output_type": "stream",
     "text": [
      "vacantX+CO2<=>CO2X\n",
      "kf = 15168.336974465617\n",
      "krev = 7764.41700312789\n",
      "Kc = 1.9535706246013143\n",
      "proton+CO2X<=>CHO2X\n",
      "kf = 8.083818277766844e11\n",
      "krev = 0.010098596840759685\n",
      "Kc = 8.004892566003977e13\n",
      "proton+CO2X<=>CO2HX\n",
      "kf = 2.273225608832448e7\n",
      "krev = 2.2582764080247422e-7\n",
      "Kc = 1.0066197391756758e14\n",
      "proton+CHO2X<=>CH2O2X\n",
      "kf = 4.576000332417186e18\n",
      "krev = 1.4292097773553455e-9\n",
      "Kc = 3.201769540707145e27\n",
      "proton+CO2HX<=>CH2O2X\n",
      "kf = 1.2555591447979036e12\n",
      "krev = 4.931250238800167e-16\n",
      "Kc = 2.546127420017923e27\n",
      "proton+OCX<=>CHOX\n",
      "kf = 1.652590254879022e14\n",
      "krev = 1.4379195974444288e-9\n",
      "Kc = 1.149292531944151e23\n",
      "proton+CHOX<=>CH2OX\n",
      "kf = 2.083412189362709e11\n",
      "krev = 2.0125467095298444e-13\n",
      "Kc = 1.0352118435300415e24\n",
      "vacantX+vacantX+CO2<=>OX+OCX\n",
      "kf = 5.720666081686702e-23\n",
      "krev = 6.626491391815395e14\n",
      "Kc = 8.633024240780711e-38\n",
      "OX+proton<=>HOX\n",
      "kf = 3.0710022311378764e19\n",
      "krev = 3.2741074576736537e-6\n",
      "Kc = 9.379662307479397e24\n",
      "vacantX+O=CO<=>CH2O2X\n",
      "kf = 296648.2669542095\n",
      "krev = 19.201584999157312\n",
      "Kc = 15449.155211261377\n",
      "vacantX+vacantX+O=CO<=>HOX+CHOX\n",
      "kf = 2.9956019182486104e-14\n",
      "krev = 1.0432137636290766e13\n",
      "Kc = 2.8715130327917357e-27\n",
      "proton+CH2OX<=>OC[Pt]\n",
      "kf = 2.981497311496802e9\n",
      "krev = 1.4839501573045604e-12\n",
      "Kc = 2.009162704569794e21\n",
      "vacantX+C=O<=>CH2OX\n",
      "kf = 367273.8215780022\n",
      "krev = 10.164900596197377\n",
      "Kc = 36131.57040762375\n",
      "proton+CHO2X<=>OX+C=O\n",
      "kf = 2.305767106699014e-14\n",
      "krev = 1.2684230462097383e-5\n",
      "Kc = 1.817821832856975e-9\n",
      "proton+CH2OX<=>CO[Pt]\n",
      "kf = 2.86129077576028e8\n",
      "krev = 50.438563120165675\n",
      "Kc = 5.672823726051618e6\n",
      "vacantX+vacantX+O=CC=O<=>CHOX+CHOX\n",
      "kf = 1.689182702080485e8\n",
      "krev = 16.362358996155486\n",
      "Kc = 1.0323589052638294e7\n",
      "proton+CO2HX<=>H2O+OCX\n",
      "kf = 4.6272269949047253e11\n",
      "krev = 8.162710754449809e-10\n",
      "Kc = 5.668738160766318e20\n",
      "vacantX+vacantX+O=CO<=>OC([Pt])O[Pt]\n",
      "kf = 7.889075988006645e10\n",
      "krev = 1.0243689593044962e10\n",
      "Kc = 7.701400863769827\n",
      "proton+OC([Pt])O[Pt]<=>OX+OC[Pt]\n",
      "kf = 6.237096876781906\n",
      "krev = 7.543697940595286e7\n",
      "Kc = 8.267956810966541e-8\n",
      "HX+CO2<=>CHO2X\n",
      "kf = 4.805045732966966e-8\n",
      "krev = 5.531661688338701e-11\n",
      "Kc = 868.6441803005569\n",
      "HX+CO2<=>CO2HX\n",
      "kf = 4.805045732966966e-8\n",
      "krev = 4.39891607558709e-11\n",
      "Kc = 1092.3249387806684\n",
      "vacantX+H<=>HX\n",
      "kf = 1.7038343664363876e7\n",
      "krev = 2.451551857304819e-19\n",
      "Kc = 6.950023762946401e25\n",
      "vacantX+vacantX+O=CO<=>HX+CHO2X\n",
      "kf = 3.8538740672715195e-13\n",
      "krev = 0.4436496487152056\n",
      "Kc = 8.686751084853123e-13\n",
      "vacantX+vacantX+O=CO<=>HX+CO2HX\n",
      "kf = 1.2167501568541431e-14\n",
      "krev = 0.011138689529629802\n",
      "Kc = 1.0923638311468246e-12\n",
      "HX+C=O<=>OC[Pt]\n",
      "kf = 2.9086371040127646e-8\n",
      "krev = 7.213238691553723e-23\n",
      "Kc = 4.0323594274214256e14\n",
      "vacantX+vacantX+C=O<=>HX+CHOX\n",
      "kf = 9.570206188765823e-12\n",
      "krev = 0.0015230739112683963\n",
      "Kc = 6.283481135065782e-9\n",
      "HX+C=O<=>CO[Pt]\n",
      "kf = 2.9086371040127646e-8\n",
      "krev = 2.5547365576819204e-8\n",
      "Kc = 1.1385272173237155\n",
      "vacantX+vacantX+H2O<=>HX+HOX\n",
      "kf = 9.084372329797399e-31\n",
      "krev = 694677.1421932415\n",
      "Kc = 1.3077114213253266e-36\n",
      "proton+CH2O2X<=>OCO[Pt]\n",
      "kf = 0.0012889990644098688\n",
      "krev = 72.5908721066519\n",
      "Kc = 1.7757040616842937e-5\n",
      "HOX+C=O<=>OCO[Pt]\n",
      "kf = 2.9086371040127646e-8\n",
      "krev = 8.723030704627704e-15\n",
      "Kc = 3.33443410037487e6\n",
      "HX+O=CO<=>OCO[Pt]\n",
      "kf = 2.349315702373821e-8\n",
      "krev = 15417.31573496434\n",
      "Kc = 1.5238163002953216e-12\n",
      "vacantX+vacantX+H2<=>HX+HX\n",
      "kf = 2.089091746167247e10\n",
      "krev = 2.0343053735558197e28\n",
      "Kc = 1.0269312431278027e-18\n",
      "vacantX+vacantX+OCCO<=>OC[Pt]+OC[Pt]\n",
      "kf = 1.6333959924525526e8\n",
      "krev = 1.7230701064695082e15\n",
      "Kc = 9.47956781514425e-8\n",
      "CHOX+C=O<=>O=COC[Pt]\n",
      "kf = 2.9086371040127646e-8\n",
      "krev = 0.00011434061676740598\n",
      "Kc = 0.00025438354158344043\n",
      "proton+CHOX<=>OC=[Pt]\n",
      "kf = 1.465017769115538e12\n",
      "krev = 5.716125200144742e11\n",
      "Kc = 2.5629560547037027\n",
      "vacantX+vacantX+O=CO<=>OX+OC=[Pt]\n",
      "kf = 7.828646681264431e-36\n",
      "krev = 9.977504782600344e15\n",
      "Kc = 7.846297097162728e-52\n",
      "proton+OC=[Pt]<=>OC[Pt]\n",
      "kf = 1.753170538591292e19\n",
      "krev = 2.1603344125760488e-26\n",
      "Kc = 8.115273859387158e44\n",
      "proton+OC([Pt])O[Pt]<=>HOX+OC=[Pt]\n",
      "kf = 1.3331726865466115e-15\n",
      "krev = 1.3950962950436255e12\n",
      "Kc = 9.55613380440468e-28\n",
      "proton+CH2O2X<=>OC(O)[Pt]\n",
      "kf = 0.0008748180318668393\n",
      "krev = 72.64605481241735\n",
      "Kc = 1.2042196016366566e-5\n",
      "HX+O=CO<=>OC(O)[Pt]\n",
      "kf = 2.349315702373821e-8\n",
      "krev = 22733.885193064238\n",
      "Kc = 1.0333982433810132e-12\n",
      "proton+OC(O)[Pt]<=>H2O+OC=[Pt]\n",
      "kf = 4.12320251813588e10\n",
      "krev = 7.57115872127632e-12\n",
      "Kc = 5.445933271150343e21\n",
      "proton+OC[Pt]<=>CO.[Pt]\n",
      "kf = 1.1179597183211382e12\n",
      "krev = 7.271666032701461e-16\n",
      "Kc = 1.537418953639446e27\n",
      "proton+CO[Pt]<=>CO.[Pt]\n",
      "kf = 1.6829480660866e20\n",
      "krev = 3.090741363490847e-22\n",
      "Kc = 5.445127457011768e41\n",
      "CHOX+C=O<=>O=CCO[Pt]\n",
      "kf = 2.9086371040127646e-8\n",
      "krev = 2.2669530198161345e7\n",
      "Kc = 1.2830601598654546e-15\n",
      "HX+O=CC=O<=>O=CCO[Pt]\n",
      "kf = 4.1842684490425265e-8\n",
      "krev = 1.984915974059417e-8\n",
      "Kc = 2.108033037028334\n",
      "vacantX+O=CC=O<=>O=CC=O.[Pt]\n",
      "kf = 264173.9427837298\n",
      "krev = 0.22533773772314192\n",
      "Kc = 1.1723466537518161e6\n",
      "proton+O=CC=O.[Pt]<=>O=CCO[Pt]\n",
      "kf = 2.3474146962948203e7\n",
      "krev = 72.51464830478658\n",
      "Kc = 323715.9320456735\n",
      "proton+OCX<=>OC#[Pt]\n",
      "kf = 1.9220875138301353e10\n",
      "krev = 1.6844063576861312e14\n",
      "Kc = 0.00011411067792872183\n",
      "proton+OC#[Pt]<=>OC=[Pt]\n",
      "kf = 5.668844231116936e18\n",
      "krev = 2.1960845911218845e-9\n",
      "Kc = 2.581341472015415e27\n",
      "vacantX+H2O<=>H2OX\n",
      "kf = 3.556172704889794e6\n",
      "krev = 1.0358054979906091e8\n",
      "Kc = 0.03433243704333026\n",
      "proton+HOX<=>H2OX\n",
      "kf = 3.472191458203624e20\n",
      "krev = 7.34629288998709e-26\n",
      "Kc = 4.726453886607461e45\n",
      "vacantX+[CH]=O<=>CHOX\n",
      "kf = 3.1755861680378234e6\n",
      "krev = 6.341003721896008e-18\n",
      "Kc = 5.008018142415313e23\n",
      "vacantX+O=[C]O<=>CO2HX\n",
      "kf = 2.549584234547939e6\n",
      "krev = 1.133027620007408e-21\n",
      "Kc = 2.2502401437762562e27\n",
      "vacantX+OCCO<=>OCCO.[Pt]\n",
      "kf = 255449.37141601063\n",
      "krev = 881.4600009971689\n",
      "Kc = 289.8025674755843\n",
      "vacantX+vacantX+C=O<=>[Pt]CO[Pt]\n",
      "kf = 0.0005163295157018706\n",
      "krev = 7.920398621186258e9\n",
      "Kc = 6.518983960235812e-14\n"
     ]
    }
   ],
   "source": [
    "for (i,rxn) in enumerate(inter.reactions)\n",
    "    str = getrxnstr(rxn)\n",
    "    kf = inter.kfs[i]\n",
    "    krev = inter.krevs[i]\n",
    "    Kc = kf/krev\n",
    "    println(str)\n",
    "    println(\"kf = $kf\")\n",
    "    println(\"krev = $krev\")\n",
    "    println(\"Kc = $Kc\")\n",
    "end"
   ]
  },
  {
   "cell_type": "code",
   "execution_count": 24,
   "id": "dd1b08a5",
   "metadata": {},
   "outputs": [
    {
     "name": "stdout",
     "output_type": "stream",
     "text": [
      "vacantX+CO2<=>CO2X\n",
      "kf = 15168.336974465617\n",
      "krev = 7764.41700312789\n",
      "Kc = 1.9535706246013143\n",
      "proton+CO2X<=>CHO2X\n",
      "kf = 58.20400728960015\n",
      "krev = 2.7055278049184825e28\n",
      "Kc = 2.1512995425065992e-27\n",
      "proton+CO2X<=>CO2HX\n",
      "kf = 1.178461037943873e-13\n",
      "krev = 4.356165878424675e13\n",
      "Kc = 2.705271265680179e-27\n",
      "proton+CHO2X<=>CH2O2X\n",
      "kf = 0.023722406084196648\n",
      "krev = 2.75691445170427e11\n",
      "Kc = 8.604694305814214e-14\n",
      "proton+CO2HX<=>CH2O2X\n",
      "kf = 6.508933944917174e-9\n",
      "krev = 95122.74029831383\n",
      "Kc = 6.842668666298455e-14\n",
      "proton+OCX<=>CHOX\n",
      "kf = 8.567179691684521e-7\n",
      "krev = 2.7737155044649036e11\n",
      "Kc = 3.0887016631279476e-18\n",
      "proton+CHOX<=>CH2OX\n",
      "kf = 1.0800600176250536e-9\n",
      "krev = 3.8821586558831215e7\n",
      "Kc = 2.7821119984066165e-17\n",
      "vacantX+vacantX+CO2<=>OX+OCX\n",
      "kf = 5.720666081686702e-23\n",
      "krev = 6.626491391815395e14\n",
      "Kc = 8.633024240780711e-38\n",
      "OX+proton<=>HOX\n",
      "kf = 0.15920357674896451\n",
      "krev = 6.315681791091639e14\n",
      "Kc = 2.5207662769445334e-16\n",
      "vacantX+O=CO<=>CH2O2X\n",
      "kf = 296648.2669542095\n",
      "krev = 19.201584999157312\n",
      "Kc = 15449.155211261377\n",
      "vacantX+vacantX+O=CO<=>HOX+CHOX\n",
      "kf = 2.9956019182486104e-14\n",
      "krev = 1.0432137636290766e13\n",
      "Kc = 2.8715130327917357e-27\n",
      "proton+CH2OX<=>OC[Pt]\n",
      "kf = 1.5456355949368266e-11\n",
      "krev = 2.8625074492928255e8\n",
      "Kc = 5.399586279919277e-20\n",
      "vacantX+C=O<=>CH2OX\n",
      "kf = 367273.8215780022\n",
      "krev = 10.164900596197377\n",
      "Kc = 36131.57040762375\n",
      "proton+CHO2X<=>OX+C=O\n",
      "kf = 1.6601670259651578e-24\n",
      "krev = 3.3982481665856235e25\n",
      "Kc = 4.8853613526207065e-50\n",
      "proton+CH2OX<=>CO[Pt]\n",
      "kf = 1.483319422568679e-12\n",
      "krev = 9.729488686153313e21\n",
      "Kc = 1.524560509207118e-34\n",
      "vacantX+vacantX+O=CC=O<=>CHOX+CHOX\n",
      "kf = 1.689182702080485e8\n",
      "krev = 16.362358996155486\n",
      "Kc = 1.0323589052638294e7\n",
      "proton+CO2HX<=>H2O+OCX\n",
      "kf = 33.31632954723845\n",
      "krev = 2.186882124112002e21\n",
      "Kc = 1.5234625213632294e-20\n",
      "vacantX+vacantX+O=CO<=>OC([Pt])O[Pt]\n",
      "kf = 7.889075988006645e10\n",
      "krev = 1.0243689593044962e10\n",
      "Kc = 7.701400863769827\n",
      "proton+OC([Pt])O[Pt]<=>OX+OC[Pt]\n",
      "kf = 4.490749539491666e-10\n",
      "krev = 2.021041621129974e38\n",
      "Kc = 2.221997554400125e-48\n",
      "HX+CO2<=>CHO2X\n",
      "kf = 4.805045732966966e-8\n",
      "krev = 5.531661688338701e-11\n",
      "Kc = 868.6441803005569\n",
      "HX+CO2<=>CO2HX\n",
      "kf = 4.805045732966966e-8\n",
      "krev = 4.39891607558709e-11\n",
      "Kc = 1092.3249387806684\n",
      "vacantX+H<=>HX\n",
      "kf = 1.7038343664363876e7\n",
      "krev = 2.451551857304819e-19\n",
      "Kc = 6.950023762946401e25\n",
      "vacantX+vacantX+O=CO<=>HX+CHO2X\n",
      "kf = 3.8538740672715195e-13\n",
      "krev = 0.4436496487152056\n",
      "Kc = 8.686751084853123e-13\n",
      "vacantX+vacantX+O=CO<=>HX+CO2HX\n",
      "kf = 1.2167501568541431e-14\n",
      "krev = 0.011138689529629802\n",
      "Kc = 1.0923638311468246e-12\n",
      "HX+C=O<=>OC[Pt]\n",
      "kf = 2.9086371040127646e-8\n",
      "krev = 7.213238691553723e-23\n",
      "Kc = 4.0323594274214256e14\n",
      "vacantX+vacantX+C=O<=>HX+CHOX\n",
      "kf = 9.570206188765823e-12\n",
      "krev = 0.0015230739112683963\n",
      "Kc = 6.283481135065782e-9\n",
      "HX+C=O<=>CO[Pt]\n",
      "kf = 2.9086371040127646e-8\n",
      "krev = 2.5547365576819204e-8\n",
      "Kc = 1.1385272173237155\n",
      "vacantX+vacantX+H2O<=>HX+HOX\n",
      "kf = 9.084372329797399e-31\n",
      "krev = 694677.1421932415\n",
      "Kc = 1.3077114213253266e-36\n",
      "proton+CH2O2X<=>OCO[Pt]\n",
      "kf = 6.68228956004643e-24\n",
      "krev = 1.4002620716950636e22\n",
      "Kc = 4.7721706494251455e-46\n",
      "HOX+C=O<=>OCO[Pt]\n",
      "kf = 2.9086371040127646e-8\n",
      "krev = 8.723030704627704e-15\n",
      "Kc = 3.33443410037487e6\n",
      "HX+O=CO<=>OCO[Pt]\n",
      "kf = 2.349315702373821e-8\n",
      "krev = 15417.31573496434\n",
      "Kc = 1.5238163002953216e-12\n",
      "vacantX+vacantX+H2<=>HX+HX\n",
      "kf = 2.089091746167247e10\n",
      "krev = 2.0343053735558197e28\n",
      "Kc = 1.0269312431278027e-18\n",
      "vacantX+vacantX+OCCO<=>OC[Pt]+OC[Pt]\n",
      "kf = 1.6333959924525526e8\n",
      "krev = 1.7230701064695082e15\n",
      "Kc = 9.47956781514425e-8\n",
      "CHOX+C=O<=>O=COC[Pt]\n",
      "kf = 2.9086371040127646e-8\n",
      "krev = 0.00011434061676740598\n",
      "Kc = 0.00025438354158344043\n",
      "proton+CHOX<=>OC=[Pt]\n",
      "kf = 7.594786694686446e-9\n",
      "krev = 1.1026280691411785e32\n",
      "Kc = 6.887895299637999e-41\n",
      "vacantX+vacantX+O=CO<=>OX+OC=[Pt]\n",
      "kf = 7.828646681264431e-36\n",
      "krev = 9.977504782600344e15\n",
      "Kc = 7.846297097162728e-52\n",
      "proton+OC=[Pt]<=>OC[Pt]\n",
      "kf = 0.09088597121963803\n",
      "krev = 4.167237907905965e-6\n",
      "Kc = 21809.643036509086\n",
      "proton+OC([Pt])O[Pt]<=>HOX+OC=[Pt]\n",
      "kf = 9.598928389999717e-26\n",
      "krev = 3.7376200637546926e42\n",
      "Kc = 2.5681926536848007e-68\n",
      "proton+CH2O2X<=>OC(O)[Pt]\n",
      "kf = 4.535137039808863e-24\n",
      "krev = 1.401326534039373e22\n",
      "Kc = 3.236317110713783e-46\n",
      "HX+O=CO<=>OC(O)[Pt]\n",
      "kf = 2.349315702373821e-8\n",
      "krev = 22733.885193064238\n",
      "Kc = 1.0333982433810132e-12\n",
      "proton+OC(O)[Pt]<=>H2O+OC=[Pt]\n",
      "kf = 2.968732116135281\n",
      "krev = 2.0283986734857454e19\n",
      "Kc = 1.4635841340960844e-19\n",
      "proton+OC[Pt]<=>CO.[Pt]\n",
      "kf = 5.795605877890981e-9\n",
      "krev = 140268.84989982448\n",
      "Kc = 4.131783986273515e-14\n",
      "proton+CO[Pt]<=>CO.[Pt]\n",
      "kf = 0.8724557373716552\n",
      "krev = 0.05961972599470784\n",
      "Kc = 14.633675730899851\n",
      "CHOX+C=O<=>O=CCO[Pt]\n",
      "kf = 2.9086371040127646e-8\n",
      "krev = 2.2669530198161345e7\n",
      "Kc = 1.2830601598654546e-15\n",
      "HX+O=CC=O<=>O=CCO[Pt]\n",
      "kf = 4.1842684490425265e-8\n",
      "krev = 1.984915974059417e-8\n",
      "Kc = 2.108033037028334\n",
      "vacantX+O=CC=O<=>O=CC=O.[Pt]\n",
      "kf = 264173.9427837298\n",
      "krev = 0.22533773772314192\n",
      "Kc = 1.1723466537518161e6\n",
      "proton+O=CC=O.[Pt]<=>O=CCO[Pt]\n",
      "kf = 1.2169213424008141e-13\n",
      "krev = 1.3987917312016364e22\n",
      "Kc = 8.699803660945394e-36\n",
      "proton+OCX<=>OC#[Pt]\n",
      "kf = 9.964278238668098e-11\n",
      "krev = 3.2491830825845853e34\n",
      "Kc = 3.066702609673181e-45\n",
      "proton+OC#[Pt]<=>OC=[Pt]\n",
      "kf = 0.02938780924597883\n",
      "krev = 4.236199221665275e11\n",
      "Kc = 6.937305756462111e-14\n",
      "vacantX+H2O<=>H2OX\n",
      "kf = 3.556172704889794e6\n",
      "krev = 1.0358054979906091e8\n",
      "Kc = 0.03433243704333026\n",
      "proton+HOX<=>H2OX\n",
      "kf = 1.800015948208543\n",
      "krev = 1.4170838568103973e-5\n",
      "Kc = 127022.54277739479\n",
      "vacantX+[CH]=O<=>CHOX\n",
      "kf = 3.1755861680378234e6\n",
      "krev = 6.341003721896008e-18\n",
      "Kc = 5.008018142415313e23\n",
      "vacantX+O=[C]O<=>CO2HX\n",
      "kf = 2.549584234547939e6\n",
      "krev = 1.133027620007408e-21\n",
      "Kc = 2.2502401437762562e27\n",
      "vacantX+OCCO<=>OCCO.[Pt]\n",
      "kf = 255449.37141601063\n",
      "krev = 881.4600009971689\n",
      "Kc = 289.8025674755843\n",
      "vacantX+vacantX+C=O<=>[Pt]CO[Pt]\n",
      "kf = 0.0005163295157018706\n",
      "krev = 7.920398621186258e9\n",
      "Kc = 6.518983960235812e-14\n"
     ]
    }
   ],
   "source": [
    "for (i,rxn) in enumerate(inter.reactions)\n",
    "    str = getrxnstr(rxn)\n",
    "    kf = inter.kfs[i]\n",
    "    krev = inter.krevs[i]\n",
    "    Kc = kf/krev\n",
    "    println(str)\n",
    "    println(\"kf = $kf\")\n",
    "    println(\"krev = $krev\")\n",
    "    println(\"Kc = $Kc\")\n",
    "end"
   ]
  },
  {
   "cell_type": "code",
   "execution_count": null,
   "id": "11333da0",
   "metadata": {},
   "outputs": [],
   "source": []
  },
  {
   "cell_type": "code",
   "execution_count": null,
   "id": "ef575a57",
   "metadata": {},
   "outputs": [],
   "source": []
  }
 ],
 "metadata": {
  "@webio": {
   "lastCommId": null,
   "lastKernelId": null
  },
  "kernelspec": {
   "display_name": "Julia 1.9.1",
   "language": "julia",
   "name": "julia-1.9"
  },
  "language_info": {
   "file_extension": ".jl",
   "mimetype": "application/julia",
   "name": "julia",
   "version": "1.9.1"
  }
 },
 "nbformat": 4,
 "nbformat_minor": 5
}
